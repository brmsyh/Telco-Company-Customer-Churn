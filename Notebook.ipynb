{
 "cells": [
  {
   "cell_type": "markdown",
   "id": "46c8058b",
   "metadata": {},
   "source": [
    "---\n",
    "\n",
    "# **TELCO COMPANY CUSTOMER CHURN**\n",
    "\n",
    "**Nama  : Yunido Baheramsyah**\n",
    "\n",
    "Program ini dibuat untuk menganalisa faktor-faktor yang memperngaruhi customer churn di perusahaan telekomunikasi yang akan mempengaruhi kebijakan perusahaan dalam menurunkan churn rate.\n",
    "\n",
    "URL Tableau : https://public.tableau.com/app/profile/yunido.baheramsyah/viz/CustomerChurnAnalysis_17502595278150/DataVisualization?publish=yes"
   ]
  },
  {
   "cell_type": "markdown",
   "id": "f0d0cb70",
   "metadata": {},
   "source": [
    "---\n",
    "\n",
    "# **I. INTRODUCTION**\n",
    "\n",
    "**Topik Permasalahan & Latar Belakang**\n",
    "\n",
    "Customer churn pada perusahaan telekomunikasi (Telco) masih cukup tinggi, yaitu sekitar 26%. Saya sebagai Freelance Data Analyst diminta untuk mengidentifikasi faktor-faktor utama penyebab churn menggunakan visualisasi data dan analisis statistik, serta menghasilkan dashboard untuk mendukung keputusan manajemen dalam menurunkan churn rate menjadi minimal 10%\n",
    "\n",
    "**SMART Method**\n",
    "\n",
    "Metode SMART akan digunakan untuk menjadi kerangka kerja analisis ini, berikut penjabarannya:\n",
    "- **Specific:** erusahaan ingin memahami faktor-faktor utama yang memengaruhi churn pelanggan, terutama terkait jenis kontrak, metode pembayaran, durasi berlangganan, layanan internet, dan biaya bulanan.\n",
    "- **Measurable:** Laporan akan menghasilkan analisis dengan tingkat akurasi prediksi churn minimal 80%, dan menghasilkan insight visual berbasis grafik untuk faktor - faktor utama churn.\n",
    "- **Achievable:** Analisis berbasis dataset 7043 pelanggan yang sudah tersedia, menggunakan eksplorasi data statistik dan visualisasi dengan tools Python.\n",
    "- **Relevant:** Hasil laporan ini mendukung tim marketing dan customer service untuk menyusun program loyalitas dan menurunkan churn minimal 10% dalam 6 bulan ke depan.\n",
    "- **Time-bound:** Diselesaikan dalam 2 minggu."
   ]
  },
  {
   "cell_type": "markdown",
   "id": "7ade8b7c",
   "metadata": {},
   "source": [
    "---\n",
    "\n",
    "# **II. PROBLEM STATEMENT AND DATASET DESCRIPTION**\n",
    "\n",
    "**Problem Statement**\n",
    "\n",
    "Perusahaan ingin secara spesifik memahami faktor-faktor utama yang memengaruhi churn pelanggan, terutama dari sisi jenis kontrak, metode pembayaran, durasi berlangganan, layanan internet, dan biaya bulanan. Untuk itu, akan dilakukan analisis terukur berupa visualisasi dan eksplorasi data terhadap minimal 5 faktor utama yang berkaitan dengan churn, serta diarahkan pada prediksi churn dengan akurasi minimal 80% apabila dilakukan pemodelan. Proyek ini dapat dicapai karena menggunakan dataset historis yang berisi 7.043 data pelanggan dan akan dianalisis menggunakan metode statistik dan visualisasi dengan tools Python seperti pandas, seaborn, dan matplotlib. Analisis ini sangat relevan untuk mendukung tim marketing dan customer service dalam menyusun strategi loyalitas pelanggan serta menurunkan angka churn minimal 10% dalam enam bulan ke depan. Seluruh proses analisis dan pelaporan ditargetkan selesai dalam jangka waktu 2 minggu untuk presentasi awal kepada manajemen.\n",
    "\n",
    "Pertanyaan-pertanyaan penelitian yang akan dijawab melalui analisis dataset ini adalah melalui (metode 5W1H), adalah:\n",
    "1. Siapa pelanggan yang paling banyak churn?\n",
    "2. Apakah pelanggan churn membayar lebih mahal?\n",
    "3. Layanan mana yang paling banyak churn rate-nya?\n",
    "4. Kapan churn lebih sering terjadi?\n",
    "5. Bagaimana karakteristik biaya pelanggan yang churn dibandingkan dengan pelanggan aktif?\n",
    "6. Apakah hubungan kontrak dan churn signifikan?\n",
    "\n",
    "**Tujuan Report**\n",
    "\n",
    "- Mengidentifikasi faktor utama penyebab churn pelanggan, seperti kontrak, biaya bulanan, layanan tambahan, atau metode pembayaran.\n",
    "- Membantu tim marketing dan customer service memahami kelompok pelanggan yang berisiko tinggi untuk churn.\n",
    "- Menyediakan visualisasi data yang jelas agar manajemen dapat melihat pola churn dengan cepat.\n",
    "- Menyusun rekomendasi berbasis data untuk mendukung strategi retensi pelanggan yang lebih efektif.\n",
    "\n",
    "**User/Client Pembaca Report**\n",
    "\n",
    "- **Top Management (C-Level):** Untuk pengambilan keputusan strategis.\n",
    "- **Divisi Marketing:** Untuk merancang program loyalitas dan retensi.\n",
    "- **Divisi Customer Service:** Untuk fokus pada pelanggan berisiko churn tinggi.\n",
    "\n",
    "**Dataset**\n",
    "\n",
    "- **Sumber:** Kaggle - [Telco Customer Churn](https://www.kaggle.com/datasets/blastchar/telco-customer-churn)\n",
    "- **Format:** CSV\n",
    "- **Deskripsi:** Data pelanggan Telco, berisi informasi demografi, kontrak, metode pembayaran, biaya, dan status churn."
   ]
  },
  {
   "cell_type": "markdown",
   "id": "8ae9a360",
   "metadata": {},
   "source": [
    "---\n",
    "\n",
    "# **III. DATA LOADING**"
   ]
  },
  {
   "cell_type": "code",
   "execution_count": null,
   "id": "db26f005",
   "metadata": {},
   "outputs": [],
   "source": [
    "# import libraries\n",
    "import pandas as pd"
   ]
  },
  {
   "cell_type": "code",
   "execution_count": 17,
   "id": "629324ed",
   "metadata": {},
   "outputs": [
    {
     "data": {
      "text/html": [
       "<div>\n",
       "<style scoped>\n",
       "    .dataframe tbody tr th:only-of-type {\n",
       "        vertical-align: middle;\n",
       "    }\n",
       "\n",
       "    .dataframe tbody tr th {\n",
       "        vertical-align: top;\n",
       "    }\n",
       "\n",
       "    .dataframe thead th {\n",
       "        text-align: right;\n",
       "    }\n",
       "</style>\n",
       "<table border=\"1\" class=\"dataframe\">\n",
       "  <thead>\n",
       "    <tr style=\"text-align: right;\">\n",
       "      <th></th>\n",
       "      <th>customerID</th>\n",
       "      <th>gender</th>\n",
       "      <th>SeniorCitizen</th>\n",
       "      <th>Partner</th>\n",
       "      <th>Dependents</th>\n",
       "      <th>tenure</th>\n",
       "      <th>PhoneService</th>\n",
       "      <th>MultipleLines</th>\n",
       "      <th>InternetService</th>\n",
       "      <th>OnlineSecurity</th>\n",
       "      <th>...</th>\n",
       "      <th>DeviceProtection</th>\n",
       "      <th>TechSupport</th>\n",
       "      <th>StreamingTV</th>\n",
       "      <th>StreamingMovies</th>\n",
       "      <th>Contract</th>\n",
       "      <th>PaperlessBilling</th>\n",
       "      <th>PaymentMethod</th>\n",
       "      <th>MonthlyCharges</th>\n",
       "      <th>TotalCharges</th>\n",
       "      <th>Churn</th>\n",
       "    </tr>\n",
       "  </thead>\n",
       "  <tbody>\n",
       "    <tr>\n",
       "      <th>0</th>\n",
       "      <td>7590-VHVEG</td>\n",
       "      <td>Female</td>\n",
       "      <td>0</td>\n",
       "      <td>Yes</td>\n",
       "      <td>No</td>\n",
       "      <td>1</td>\n",
       "      <td>No</td>\n",
       "      <td>No phone service</td>\n",
       "      <td>DSL</td>\n",
       "      <td>No</td>\n",
       "      <td>...</td>\n",
       "      <td>No</td>\n",
       "      <td>No</td>\n",
       "      <td>No</td>\n",
       "      <td>No</td>\n",
       "      <td>Month-to-month</td>\n",
       "      <td>Yes</td>\n",
       "      <td>Electronic check</td>\n",
       "      <td>29.85</td>\n",
       "      <td>29.85</td>\n",
       "      <td>No</td>\n",
       "    </tr>\n",
       "    <tr>\n",
       "      <th>1</th>\n",
       "      <td>5575-GNVDE</td>\n",
       "      <td>Male</td>\n",
       "      <td>0</td>\n",
       "      <td>No</td>\n",
       "      <td>No</td>\n",
       "      <td>34</td>\n",
       "      <td>Yes</td>\n",
       "      <td>No</td>\n",
       "      <td>DSL</td>\n",
       "      <td>Yes</td>\n",
       "      <td>...</td>\n",
       "      <td>Yes</td>\n",
       "      <td>No</td>\n",
       "      <td>No</td>\n",
       "      <td>No</td>\n",
       "      <td>One year</td>\n",
       "      <td>No</td>\n",
       "      <td>Mailed check</td>\n",
       "      <td>56.95</td>\n",
       "      <td>1889.5</td>\n",
       "      <td>No</td>\n",
       "    </tr>\n",
       "    <tr>\n",
       "      <th>2</th>\n",
       "      <td>3668-QPYBK</td>\n",
       "      <td>Male</td>\n",
       "      <td>0</td>\n",
       "      <td>No</td>\n",
       "      <td>No</td>\n",
       "      <td>2</td>\n",
       "      <td>Yes</td>\n",
       "      <td>No</td>\n",
       "      <td>DSL</td>\n",
       "      <td>Yes</td>\n",
       "      <td>...</td>\n",
       "      <td>No</td>\n",
       "      <td>No</td>\n",
       "      <td>No</td>\n",
       "      <td>No</td>\n",
       "      <td>Month-to-month</td>\n",
       "      <td>Yes</td>\n",
       "      <td>Mailed check</td>\n",
       "      <td>53.85</td>\n",
       "      <td>108.15</td>\n",
       "      <td>Yes</td>\n",
       "    </tr>\n",
       "    <tr>\n",
       "      <th>3</th>\n",
       "      <td>7795-CFOCW</td>\n",
       "      <td>Male</td>\n",
       "      <td>0</td>\n",
       "      <td>No</td>\n",
       "      <td>No</td>\n",
       "      <td>45</td>\n",
       "      <td>No</td>\n",
       "      <td>No phone service</td>\n",
       "      <td>DSL</td>\n",
       "      <td>Yes</td>\n",
       "      <td>...</td>\n",
       "      <td>Yes</td>\n",
       "      <td>Yes</td>\n",
       "      <td>No</td>\n",
       "      <td>No</td>\n",
       "      <td>One year</td>\n",
       "      <td>No</td>\n",
       "      <td>Bank transfer (automatic)</td>\n",
       "      <td>42.30</td>\n",
       "      <td>1840.75</td>\n",
       "      <td>No</td>\n",
       "    </tr>\n",
       "    <tr>\n",
       "      <th>4</th>\n",
       "      <td>9237-HQITU</td>\n",
       "      <td>Female</td>\n",
       "      <td>0</td>\n",
       "      <td>No</td>\n",
       "      <td>No</td>\n",
       "      <td>2</td>\n",
       "      <td>Yes</td>\n",
       "      <td>No</td>\n",
       "      <td>Fiber optic</td>\n",
       "      <td>No</td>\n",
       "      <td>...</td>\n",
       "      <td>No</td>\n",
       "      <td>No</td>\n",
       "      <td>No</td>\n",
       "      <td>No</td>\n",
       "      <td>Month-to-month</td>\n",
       "      <td>Yes</td>\n",
       "      <td>Electronic check</td>\n",
       "      <td>70.70</td>\n",
       "      <td>151.65</td>\n",
       "      <td>Yes</td>\n",
       "    </tr>\n",
       "  </tbody>\n",
       "</table>\n",
       "<p>5 rows × 21 columns</p>\n",
       "</div>"
      ],
      "text/plain": [
       "   customerID  gender  SeniorCitizen Partner Dependents  tenure PhoneService  \\\n",
       "0  7590-VHVEG  Female              0     Yes         No       1           No   \n",
       "1  5575-GNVDE    Male              0      No         No      34          Yes   \n",
       "2  3668-QPYBK    Male              0      No         No       2          Yes   \n",
       "3  7795-CFOCW    Male              0      No         No      45           No   \n",
       "4  9237-HQITU  Female              0      No         No       2          Yes   \n",
       "\n",
       "      MultipleLines InternetService OnlineSecurity  ... DeviceProtection  \\\n",
       "0  No phone service             DSL             No  ...               No   \n",
       "1                No             DSL            Yes  ...              Yes   \n",
       "2                No             DSL            Yes  ...               No   \n",
       "3  No phone service             DSL            Yes  ...              Yes   \n",
       "4                No     Fiber optic             No  ...               No   \n",
       "\n",
       "  TechSupport StreamingTV StreamingMovies        Contract PaperlessBilling  \\\n",
       "0          No          No              No  Month-to-month              Yes   \n",
       "1          No          No              No        One year               No   \n",
       "2          No          No              No  Month-to-month              Yes   \n",
       "3         Yes          No              No        One year               No   \n",
       "4          No          No              No  Month-to-month              Yes   \n",
       "\n",
       "               PaymentMethod MonthlyCharges  TotalCharges Churn  \n",
       "0           Electronic check          29.85         29.85    No  \n",
       "1               Mailed check          56.95        1889.5    No  \n",
       "2               Mailed check          53.85        108.15   Yes  \n",
       "3  Bank transfer (automatic)          42.30       1840.75    No  \n",
       "4           Electronic check          70.70        151.65   Yes  \n",
       "\n",
       "[5 rows x 21 columns]"
      ]
     },
     "execution_count": 17,
     "metadata": {},
     "output_type": "execute_result"
    }
   ],
   "source": [
    "# Load dataset\n",
    "df = pd.read_csv('WA_Fn-UseC_-Telco-Customer-Churn.csv')\n",
    "\n",
    "# Tampilkan 5 baris pertama\n",
    "df.head()"
   ]
  },
  {
   "cell_type": "markdown",
   "id": "cdb98373",
   "metadata": {},
   "source": [
    ">Import library yang diperlukan seperti dari Pandas, Scipy, dan sebagainya."
   ]
  },
  {
   "cell_type": "code",
   "execution_count": 18,
   "id": "f3201065",
   "metadata": {},
   "outputs": [
    {
     "name": "stdout",
     "output_type": "stream",
     "text": [
      "<class 'pandas.core.frame.DataFrame'>\n",
      "RangeIndex: 7043 entries, 0 to 7042\n",
      "Data columns (total 21 columns):\n",
      " #   Column            Non-Null Count  Dtype  \n",
      "---  ------            --------------  -----  \n",
      " 0   customerID        7043 non-null   object \n",
      " 1   gender            7043 non-null   object \n",
      " 2   SeniorCitizen     7043 non-null   int64  \n",
      " 3   Partner           7043 non-null   object \n",
      " 4   Dependents        7043 non-null   object \n",
      " 5   tenure            7043 non-null   int64  \n",
      " 6   PhoneService      7043 non-null   object \n",
      " 7   MultipleLines     7043 non-null   object \n",
      " 8   InternetService   7043 non-null   object \n",
      " 9   OnlineSecurity    7043 non-null   object \n",
      " 10  OnlineBackup      7043 non-null   object \n",
      " 11  DeviceProtection  7043 non-null   object \n",
      " 12  TechSupport       7043 non-null   object \n",
      " 13  StreamingTV       7043 non-null   object \n",
      " 14  StreamingMovies   7043 non-null   object \n",
      " 15  Contract          7043 non-null   object \n",
      " 16  PaperlessBilling  7043 non-null   object \n",
      " 17  PaymentMethod     7043 non-null   object \n",
      " 18  MonthlyCharges    7043 non-null   float64\n",
      " 19  TotalCharges      7043 non-null   object \n",
      " 20  Churn             7043 non-null   object \n",
      "dtypes: float64(1), int64(2), object(18)\n",
      "memory usage: 1.1+ MB\n"
     ]
    },
    {
     "data": {
      "text/html": [
       "<div>\n",
       "<style scoped>\n",
       "    .dataframe tbody tr th:only-of-type {\n",
       "        vertical-align: middle;\n",
       "    }\n",
       "\n",
       "    .dataframe tbody tr th {\n",
       "        vertical-align: top;\n",
       "    }\n",
       "\n",
       "    .dataframe thead th {\n",
       "        text-align: right;\n",
       "    }\n",
       "</style>\n",
       "<table border=\"1\" class=\"dataframe\">\n",
       "  <thead>\n",
       "    <tr style=\"text-align: right;\">\n",
       "      <th></th>\n",
       "      <th>SeniorCitizen</th>\n",
       "      <th>tenure</th>\n",
       "      <th>MonthlyCharges</th>\n",
       "    </tr>\n",
       "  </thead>\n",
       "  <tbody>\n",
       "    <tr>\n",
       "      <th>count</th>\n",
       "      <td>7043.000000</td>\n",
       "      <td>7043.000000</td>\n",
       "      <td>7043.000000</td>\n",
       "    </tr>\n",
       "    <tr>\n",
       "      <th>mean</th>\n",
       "      <td>0.162147</td>\n",
       "      <td>32.371149</td>\n",
       "      <td>64.761692</td>\n",
       "    </tr>\n",
       "    <tr>\n",
       "      <th>std</th>\n",
       "      <td>0.368612</td>\n",
       "      <td>24.559481</td>\n",
       "      <td>30.090047</td>\n",
       "    </tr>\n",
       "    <tr>\n",
       "      <th>min</th>\n",
       "      <td>0.000000</td>\n",
       "      <td>0.000000</td>\n",
       "      <td>18.250000</td>\n",
       "    </tr>\n",
       "    <tr>\n",
       "      <th>25%</th>\n",
       "      <td>0.000000</td>\n",
       "      <td>9.000000</td>\n",
       "      <td>35.500000</td>\n",
       "    </tr>\n",
       "    <tr>\n",
       "      <th>50%</th>\n",
       "      <td>0.000000</td>\n",
       "      <td>29.000000</td>\n",
       "      <td>70.350000</td>\n",
       "    </tr>\n",
       "    <tr>\n",
       "      <th>75%</th>\n",
       "      <td>0.000000</td>\n",
       "      <td>55.000000</td>\n",
       "      <td>89.850000</td>\n",
       "    </tr>\n",
       "    <tr>\n",
       "      <th>max</th>\n",
       "      <td>1.000000</td>\n",
       "      <td>72.000000</td>\n",
       "      <td>118.750000</td>\n",
       "    </tr>\n",
       "  </tbody>\n",
       "</table>\n",
       "</div>"
      ],
      "text/plain": [
       "       SeniorCitizen       tenure  MonthlyCharges\n",
       "count    7043.000000  7043.000000     7043.000000\n",
       "mean        0.162147    32.371149       64.761692\n",
       "std         0.368612    24.559481       30.090047\n",
       "min         0.000000     0.000000       18.250000\n",
       "25%         0.000000     9.000000       35.500000\n",
       "50%         0.000000    29.000000       70.350000\n",
       "75%         0.000000    55.000000       89.850000\n",
       "max         1.000000    72.000000      118.750000"
      ]
     },
     "execution_count": 18,
     "metadata": {},
     "output_type": "execute_result"
    }
   ],
   "source": [
    "# Tampilkan info dataset\n",
    "df.info()\n",
    "\n",
    "# Tampilkan ringkasan statistik awal\n",
    "df.describe()"
   ]
  },
  {
   "cell_type": "markdown",
   "id": "486774b4",
   "metadata": {},
   "source": [
    "> **Insight**:\n",
    "- Tidak ada missing value\n",
    "- Kolom TotalCharges bertipe data objek, seharusnya numerik(float)\n",
    "\n",
    "> **Solusi**:\n",
    "- Data Cleaning\n",
    "- Ubah tipe data di kolom TotalCharges ke float\n",
    "- Tangani jika ada nilai NaN"
   ]
  },
  {
   "cell_type": "code",
   "execution_count": 19,
   "id": "5db1822a",
   "metadata": {},
   "outputs": [
    {
     "data": {
      "text/plain": [
       "Index(['customerID', 'gender', 'SeniorCitizen', 'Partner', 'Dependents',\n",
       "       'tenure', 'PhoneService', 'MultipleLines', 'InternetService',\n",
       "       'OnlineSecurity', 'OnlineBackup', 'DeviceProtection', 'TechSupport',\n",
       "       'StreamingTV', 'StreamingMovies', 'Contract', 'PaperlessBilling',\n",
       "       'PaymentMethod', 'MonthlyCharges', 'TotalCharges', 'Churn'],\n",
       "      dtype='object')"
      ]
     },
     "execution_count": 19,
     "metadata": {},
     "output_type": "execute_result"
    }
   ],
   "source": [
    "df.keys()"
   ]
  },
  {
   "cell_type": "markdown",
   "id": "122cfd58",
   "metadata": {},
   "source": [
    "> df.keys() digunakan untuk memperoleh informasi ringkas tentang DataFrame yang ada. DataFrame adalah struktur data tabular yang disediakan oleh Pandas untuk memanipulasi dan menganalisis data"
   ]
  },
  {
   "cell_type": "markdown",
   "id": "f65d73f3",
   "metadata": {},
   "source": [
    "---\n",
    "# **IV. DATA CLEANING**"
   ]
  },
  {
   "cell_type": "markdown",
   "id": "762cff10",
   "metadata": {},
   "source": [
    "Pada fase data cleaning akan dilakukan proses data understanding, handling missing values, mengganti nama kolom, dan mengubah format data dalam kolom."
   ]
  },
  {
   "cell_type": "code",
   "execution_count": 20,
   "id": "c40e619d",
   "metadata": {},
   "outputs": [
    {
     "data": {
      "text/plain": [
       "customerID          0\n",
       "gender              0\n",
       "SeniorCitizen       0\n",
       "Partner             0\n",
       "Dependents          0\n",
       "tenure              0\n",
       "PhoneService        0\n",
       "MultipleLines       0\n",
       "InternetService     0\n",
       "OnlineSecurity      0\n",
       "OnlineBackup        0\n",
       "DeviceProtection    0\n",
       "TechSupport         0\n",
       "StreamingTV         0\n",
       "StreamingMovies     0\n",
       "Contract            0\n",
       "PaperlessBilling    0\n",
       "PaymentMethod       0\n",
       "MonthlyCharges      0\n",
       "TotalCharges        0\n",
       "Churn               0\n",
       "dtype: int64"
      ]
     },
     "execution_count": 20,
     "metadata": {},
     "output_type": "execute_result"
    }
   ],
   "source": [
    "# Cek missing values\n",
    "df.isna().sum()"
   ]
  },
  {
   "cell_type": "markdown",
   "id": "428a4196",
   "metadata": {},
   "source": [
    "> Data tidak mengandung missing value"
   ]
  },
  {
   "cell_type": "code",
   "execution_count": 21,
   "id": "fbeaa254",
   "metadata": {},
   "outputs": [
    {
     "data": {
      "text/html": [
       "<div>\n",
       "<style scoped>\n",
       "    .dataframe tbody tr th:only-of-type {\n",
       "        vertical-align: middle;\n",
       "    }\n",
       "\n",
       "    .dataframe tbody tr th {\n",
       "        vertical-align: top;\n",
       "    }\n",
       "\n",
       "    .dataframe thead th {\n",
       "        text-align: right;\n",
       "    }\n",
       "</style>\n",
       "<table border=\"1\" class=\"dataframe\">\n",
       "  <thead>\n",
       "    <tr style=\"text-align: right;\">\n",
       "      <th></th>\n",
       "      <th>customerID</th>\n",
       "      <th>gender</th>\n",
       "      <th>SeniorCitizen</th>\n",
       "      <th>Partner</th>\n",
       "      <th>Dependents</th>\n",
       "      <th>tenure</th>\n",
       "      <th>PhoneService</th>\n",
       "      <th>MultipleLines</th>\n",
       "      <th>InternetService</th>\n",
       "      <th>OnlineSecurity</th>\n",
       "      <th>...</th>\n",
       "      <th>DeviceProtection</th>\n",
       "      <th>TechSupport</th>\n",
       "      <th>StreamingTV</th>\n",
       "      <th>StreamingMovies</th>\n",
       "      <th>Contract</th>\n",
       "      <th>PaperlessBilling</th>\n",
       "      <th>PaymentMethod</th>\n",
       "      <th>MonthlyCharges</th>\n",
       "      <th>TotalCharges</th>\n",
       "      <th>Churn</th>\n",
       "    </tr>\n",
       "  </thead>\n",
       "  <tbody>\n",
       "    <tr>\n",
       "      <th>0</th>\n",
       "      <td>7590-VHVEG</td>\n",
       "      <td>Female</td>\n",
       "      <td>0</td>\n",
       "      <td>Yes</td>\n",
       "      <td>No</td>\n",
       "      <td>1</td>\n",
       "      <td>No</td>\n",
       "      <td>No phone service</td>\n",
       "      <td>DSL</td>\n",
       "      <td>No</td>\n",
       "      <td>...</td>\n",
       "      <td>No</td>\n",
       "      <td>No</td>\n",
       "      <td>No</td>\n",
       "      <td>No</td>\n",
       "      <td>Month-to-month</td>\n",
       "      <td>Yes</td>\n",
       "      <td>Electronic check</td>\n",
       "      <td>29.85</td>\n",
       "      <td>29.85</td>\n",
       "      <td>No</td>\n",
       "    </tr>\n",
       "    <tr>\n",
       "      <th>1</th>\n",
       "      <td>5575-GNVDE</td>\n",
       "      <td>Male</td>\n",
       "      <td>0</td>\n",
       "      <td>No</td>\n",
       "      <td>No</td>\n",
       "      <td>34</td>\n",
       "      <td>Yes</td>\n",
       "      <td>No</td>\n",
       "      <td>DSL</td>\n",
       "      <td>Yes</td>\n",
       "      <td>...</td>\n",
       "      <td>Yes</td>\n",
       "      <td>No</td>\n",
       "      <td>No</td>\n",
       "      <td>No</td>\n",
       "      <td>One year</td>\n",
       "      <td>No</td>\n",
       "      <td>Mailed check</td>\n",
       "      <td>56.95</td>\n",
       "      <td>1889.50</td>\n",
       "      <td>No</td>\n",
       "    </tr>\n",
       "    <tr>\n",
       "      <th>2</th>\n",
       "      <td>3668-QPYBK</td>\n",
       "      <td>Male</td>\n",
       "      <td>0</td>\n",
       "      <td>No</td>\n",
       "      <td>No</td>\n",
       "      <td>2</td>\n",
       "      <td>Yes</td>\n",
       "      <td>No</td>\n",
       "      <td>DSL</td>\n",
       "      <td>Yes</td>\n",
       "      <td>...</td>\n",
       "      <td>No</td>\n",
       "      <td>No</td>\n",
       "      <td>No</td>\n",
       "      <td>No</td>\n",
       "      <td>Month-to-month</td>\n",
       "      <td>Yes</td>\n",
       "      <td>Mailed check</td>\n",
       "      <td>53.85</td>\n",
       "      <td>108.15</td>\n",
       "      <td>Yes</td>\n",
       "    </tr>\n",
       "    <tr>\n",
       "      <th>3</th>\n",
       "      <td>7795-CFOCW</td>\n",
       "      <td>Male</td>\n",
       "      <td>0</td>\n",
       "      <td>No</td>\n",
       "      <td>No</td>\n",
       "      <td>45</td>\n",
       "      <td>No</td>\n",
       "      <td>No phone service</td>\n",
       "      <td>DSL</td>\n",
       "      <td>Yes</td>\n",
       "      <td>...</td>\n",
       "      <td>Yes</td>\n",
       "      <td>Yes</td>\n",
       "      <td>No</td>\n",
       "      <td>No</td>\n",
       "      <td>One year</td>\n",
       "      <td>No</td>\n",
       "      <td>Bank transfer (automatic)</td>\n",
       "      <td>42.30</td>\n",
       "      <td>1840.75</td>\n",
       "      <td>No</td>\n",
       "    </tr>\n",
       "    <tr>\n",
       "      <th>4</th>\n",
       "      <td>9237-HQITU</td>\n",
       "      <td>Female</td>\n",
       "      <td>0</td>\n",
       "      <td>No</td>\n",
       "      <td>No</td>\n",
       "      <td>2</td>\n",
       "      <td>Yes</td>\n",
       "      <td>No</td>\n",
       "      <td>Fiber optic</td>\n",
       "      <td>No</td>\n",
       "      <td>...</td>\n",
       "      <td>No</td>\n",
       "      <td>No</td>\n",
       "      <td>No</td>\n",
       "      <td>No</td>\n",
       "      <td>Month-to-month</td>\n",
       "      <td>Yes</td>\n",
       "      <td>Electronic check</td>\n",
       "      <td>70.70</td>\n",
       "      <td>151.65</td>\n",
       "      <td>Yes</td>\n",
       "    </tr>\n",
       "  </tbody>\n",
       "</table>\n",
       "<p>5 rows × 21 columns</p>\n",
       "</div>"
      ],
      "text/plain": [
       "   customerID  gender  SeniorCitizen Partner Dependents  tenure PhoneService  \\\n",
       "0  7590-VHVEG  Female              0     Yes         No       1           No   \n",
       "1  5575-GNVDE    Male              0      No         No      34          Yes   \n",
       "2  3668-QPYBK    Male              0      No         No       2          Yes   \n",
       "3  7795-CFOCW    Male              0      No         No      45           No   \n",
       "4  9237-HQITU  Female              0      No         No       2          Yes   \n",
       "\n",
       "      MultipleLines InternetService OnlineSecurity  ... DeviceProtection  \\\n",
       "0  No phone service             DSL             No  ...               No   \n",
       "1                No             DSL            Yes  ...              Yes   \n",
       "2                No             DSL            Yes  ...               No   \n",
       "3  No phone service             DSL            Yes  ...              Yes   \n",
       "4                No     Fiber optic             No  ...               No   \n",
       "\n",
       "  TechSupport StreamingTV StreamingMovies        Contract PaperlessBilling  \\\n",
       "0          No          No              No  Month-to-month              Yes   \n",
       "1          No          No              No        One year               No   \n",
       "2          No          No              No  Month-to-month              Yes   \n",
       "3         Yes          No              No        One year               No   \n",
       "4          No          No              No  Month-to-month              Yes   \n",
       "\n",
       "               PaymentMethod MonthlyCharges  TotalCharges  Churn  \n",
       "0           Electronic check          29.85         29.85     No  \n",
       "1               Mailed check          56.95       1889.50     No  \n",
       "2               Mailed check          53.85        108.15    Yes  \n",
       "3  Bank transfer (automatic)          42.30       1840.75     No  \n",
       "4           Electronic check          70.70        151.65    Yes  \n",
       "\n",
       "[5 rows x 21 columns]"
      ]
     },
     "execution_count": 21,
     "metadata": {},
     "output_type": "execute_result"
    }
   ],
   "source": [
    "# ubah tipe data di kolom TotalCharge dari string ke Float\n",
    "df['TotalCharges'] = pd.to_numeric(df['TotalCharges'], errors='coerce')\n",
    "\n",
    "df.head()"
   ]
  },
  {
   "cell_type": "markdown",
   "id": "206e9310",
   "metadata": {},
   "source": [
    "> Kolom `TotalCharges` sudah bertipe numerik(float)"
   ]
  },
  {
   "cell_type": "code",
   "execution_count": 22,
   "id": "10022b85",
   "metadata": {},
   "outputs": [
    {
     "data": {
      "text/plain": [
       "np.int64(11)"
      ]
     },
     "execution_count": 22,
     "metadata": {},
     "output_type": "execute_result"
    }
   ],
   "source": [
    "# hitung berapa jumlah nilai Nan di kolom TotalCharges\n",
    "df['TotalCharges'].isna().sum()"
   ]
  },
  {
   "cell_type": "markdown",
   "id": "0ed3c3b6",
   "metadata": {},
   "source": [
    "> Ada 11 nilai NaN di kolom TotalCharges"
   ]
  },
  {
   "cell_type": "code",
   "execution_count": 23,
   "id": "50adae8d",
   "metadata": {},
   "outputs": [
    {
     "name": "stdout",
     "output_type": "stream",
     "text": [
      "<class 'pandas.core.frame.DataFrame'>\n",
      "Index: 7032 entries, 0 to 7042\n",
      "Data columns (total 21 columns):\n",
      " #   Column            Non-Null Count  Dtype  \n",
      "---  ------            --------------  -----  \n",
      " 0   customerID        7032 non-null   object \n",
      " 1   gender            7032 non-null   object \n",
      " 2   SeniorCitizen     7032 non-null   int64  \n",
      " 3   Partner           7032 non-null   object \n",
      " 4   Dependents        7032 non-null   object \n",
      " 5   tenure            7032 non-null   int64  \n",
      " 6   PhoneService      7032 non-null   object \n",
      " 7   MultipleLines     7032 non-null   object \n",
      " 8   InternetService   7032 non-null   object \n",
      " 9   OnlineSecurity    7032 non-null   object \n",
      " 10  OnlineBackup      7032 non-null   object \n",
      " 11  DeviceProtection  7032 non-null   object \n",
      " 12  TechSupport       7032 non-null   object \n",
      " 13  StreamingTV       7032 non-null   object \n",
      " 14  StreamingMovies   7032 non-null   object \n",
      " 15  Contract          7032 non-null   object \n",
      " 16  PaperlessBilling  7032 non-null   object \n",
      " 17  PaymentMethod     7032 non-null   object \n",
      " 18  MonthlyCharges    7032 non-null   float64\n",
      " 19  TotalCharges      7032 non-null   float64\n",
      " 20  Churn             7032 non-null   object \n",
      "dtypes: float64(2), int64(2), object(17)\n",
      "memory usage: 1.2+ MB\n"
     ]
    }
   ],
   "source": [
    "# Drop row dengan yang terdapat nilai NaN di \n",
    "df_clean = df.dropna(subset=['TotalCharges'])\n",
    "\n",
    "df_clean.info()"
   ]
  },
  {
   "cell_type": "code",
   "execution_count": 24,
   "id": "8efddb8e",
   "metadata": {},
   "outputs": [
    {
     "data": {
      "text/html": [
       "<div>\n",
       "<style scoped>\n",
       "    .dataframe tbody tr th:only-of-type {\n",
       "        vertical-align: middle;\n",
       "    }\n",
       "\n",
       "    .dataframe tbody tr th {\n",
       "        vertical-align: top;\n",
       "    }\n",
       "\n",
       "    .dataframe thead th {\n",
       "        text-align: right;\n",
       "    }\n",
       "</style>\n",
       "<table border=\"1\" class=\"dataframe\">\n",
       "  <thead>\n",
       "    <tr style=\"text-align: right;\">\n",
       "      <th></th>\n",
       "      <th>customerid</th>\n",
       "      <th>gender</th>\n",
       "      <th>seniorcitizen</th>\n",
       "      <th>partner</th>\n",
       "      <th>dependents</th>\n",
       "      <th>tenure</th>\n",
       "      <th>phoneservice</th>\n",
       "      <th>multiplelines</th>\n",
       "      <th>internetservice</th>\n",
       "      <th>onlinesecurity</th>\n",
       "      <th>...</th>\n",
       "      <th>deviceprotection</th>\n",
       "      <th>techsupport</th>\n",
       "      <th>streamingtv</th>\n",
       "      <th>streamingmovies</th>\n",
       "      <th>contract</th>\n",
       "      <th>paperlessbilling</th>\n",
       "      <th>paymentmethod</th>\n",
       "      <th>monthlycharges</th>\n",
       "      <th>totalcharges</th>\n",
       "      <th>churn</th>\n",
       "    </tr>\n",
       "  </thead>\n",
       "  <tbody>\n",
       "    <tr>\n",
       "      <th>0</th>\n",
       "      <td>7590-VHVEG</td>\n",
       "      <td>Female</td>\n",
       "      <td>0</td>\n",
       "      <td>Yes</td>\n",
       "      <td>No</td>\n",
       "      <td>1</td>\n",
       "      <td>No</td>\n",
       "      <td>No phone service</td>\n",
       "      <td>DSL</td>\n",
       "      <td>No</td>\n",
       "      <td>...</td>\n",
       "      <td>No</td>\n",
       "      <td>No</td>\n",
       "      <td>No</td>\n",
       "      <td>No</td>\n",
       "      <td>Month-to-month</td>\n",
       "      <td>Yes</td>\n",
       "      <td>Electronic check</td>\n",
       "      <td>29.85</td>\n",
       "      <td>29.85</td>\n",
       "      <td>No</td>\n",
       "    </tr>\n",
       "    <tr>\n",
       "      <th>1</th>\n",
       "      <td>5575-GNVDE</td>\n",
       "      <td>Male</td>\n",
       "      <td>0</td>\n",
       "      <td>No</td>\n",
       "      <td>No</td>\n",
       "      <td>34</td>\n",
       "      <td>Yes</td>\n",
       "      <td>No</td>\n",
       "      <td>DSL</td>\n",
       "      <td>Yes</td>\n",
       "      <td>...</td>\n",
       "      <td>Yes</td>\n",
       "      <td>No</td>\n",
       "      <td>No</td>\n",
       "      <td>No</td>\n",
       "      <td>One year</td>\n",
       "      <td>No</td>\n",
       "      <td>Mailed check</td>\n",
       "      <td>56.95</td>\n",
       "      <td>1889.50</td>\n",
       "      <td>No</td>\n",
       "    </tr>\n",
       "    <tr>\n",
       "      <th>2</th>\n",
       "      <td>3668-QPYBK</td>\n",
       "      <td>Male</td>\n",
       "      <td>0</td>\n",
       "      <td>No</td>\n",
       "      <td>No</td>\n",
       "      <td>2</td>\n",
       "      <td>Yes</td>\n",
       "      <td>No</td>\n",
       "      <td>DSL</td>\n",
       "      <td>Yes</td>\n",
       "      <td>...</td>\n",
       "      <td>No</td>\n",
       "      <td>No</td>\n",
       "      <td>No</td>\n",
       "      <td>No</td>\n",
       "      <td>Month-to-month</td>\n",
       "      <td>Yes</td>\n",
       "      <td>Mailed check</td>\n",
       "      <td>53.85</td>\n",
       "      <td>108.15</td>\n",
       "      <td>Yes</td>\n",
       "    </tr>\n",
       "    <tr>\n",
       "      <th>3</th>\n",
       "      <td>7795-CFOCW</td>\n",
       "      <td>Male</td>\n",
       "      <td>0</td>\n",
       "      <td>No</td>\n",
       "      <td>No</td>\n",
       "      <td>45</td>\n",
       "      <td>No</td>\n",
       "      <td>No phone service</td>\n",
       "      <td>DSL</td>\n",
       "      <td>Yes</td>\n",
       "      <td>...</td>\n",
       "      <td>Yes</td>\n",
       "      <td>Yes</td>\n",
       "      <td>No</td>\n",
       "      <td>No</td>\n",
       "      <td>One year</td>\n",
       "      <td>No</td>\n",
       "      <td>Bank transfer (automatic)</td>\n",
       "      <td>42.30</td>\n",
       "      <td>1840.75</td>\n",
       "      <td>No</td>\n",
       "    </tr>\n",
       "    <tr>\n",
       "      <th>4</th>\n",
       "      <td>9237-HQITU</td>\n",
       "      <td>Female</td>\n",
       "      <td>0</td>\n",
       "      <td>No</td>\n",
       "      <td>No</td>\n",
       "      <td>2</td>\n",
       "      <td>Yes</td>\n",
       "      <td>No</td>\n",
       "      <td>Fiber optic</td>\n",
       "      <td>No</td>\n",
       "      <td>...</td>\n",
       "      <td>No</td>\n",
       "      <td>No</td>\n",
       "      <td>No</td>\n",
       "      <td>No</td>\n",
       "      <td>Month-to-month</td>\n",
       "      <td>Yes</td>\n",
       "      <td>Electronic check</td>\n",
       "      <td>70.70</td>\n",
       "      <td>151.65</td>\n",
       "      <td>Yes</td>\n",
       "    </tr>\n",
       "    <tr>\n",
       "      <th>...</th>\n",
       "      <td>...</td>\n",
       "      <td>...</td>\n",
       "      <td>...</td>\n",
       "      <td>...</td>\n",
       "      <td>...</td>\n",
       "      <td>...</td>\n",
       "      <td>...</td>\n",
       "      <td>...</td>\n",
       "      <td>...</td>\n",
       "      <td>...</td>\n",
       "      <td>...</td>\n",
       "      <td>...</td>\n",
       "      <td>...</td>\n",
       "      <td>...</td>\n",
       "      <td>...</td>\n",
       "      <td>...</td>\n",
       "      <td>...</td>\n",
       "      <td>...</td>\n",
       "      <td>...</td>\n",
       "      <td>...</td>\n",
       "      <td>...</td>\n",
       "    </tr>\n",
       "    <tr>\n",
       "      <th>7038</th>\n",
       "      <td>6840-RESVB</td>\n",
       "      <td>Male</td>\n",
       "      <td>0</td>\n",
       "      <td>Yes</td>\n",
       "      <td>Yes</td>\n",
       "      <td>24</td>\n",
       "      <td>Yes</td>\n",
       "      <td>Yes</td>\n",
       "      <td>DSL</td>\n",
       "      <td>Yes</td>\n",
       "      <td>...</td>\n",
       "      <td>Yes</td>\n",
       "      <td>Yes</td>\n",
       "      <td>Yes</td>\n",
       "      <td>Yes</td>\n",
       "      <td>One year</td>\n",
       "      <td>Yes</td>\n",
       "      <td>Mailed check</td>\n",
       "      <td>84.80</td>\n",
       "      <td>1990.50</td>\n",
       "      <td>No</td>\n",
       "    </tr>\n",
       "    <tr>\n",
       "      <th>7039</th>\n",
       "      <td>2234-XADUH</td>\n",
       "      <td>Female</td>\n",
       "      <td>0</td>\n",
       "      <td>Yes</td>\n",
       "      <td>Yes</td>\n",
       "      <td>72</td>\n",
       "      <td>Yes</td>\n",
       "      <td>Yes</td>\n",
       "      <td>Fiber optic</td>\n",
       "      <td>No</td>\n",
       "      <td>...</td>\n",
       "      <td>Yes</td>\n",
       "      <td>No</td>\n",
       "      <td>Yes</td>\n",
       "      <td>Yes</td>\n",
       "      <td>One year</td>\n",
       "      <td>Yes</td>\n",
       "      <td>Credit card (automatic)</td>\n",
       "      <td>103.20</td>\n",
       "      <td>7362.90</td>\n",
       "      <td>No</td>\n",
       "    </tr>\n",
       "    <tr>\n",
       "      <th>7040</th>\n",
       "      <td>4801-JZAZL</td>\n",
       "      <td>Female</td>\n",
       "      <td>0</td>\n",
       "      <td>Yes</td>\n",
       "      <td>Yes</td>\n",
       "      <td>11</td>\n",
       "      <td>No</td>\n",
       "      <td>No phone service</td>\n",
       "      <td>DSL</td>\n",
       "      <td>Yes</td>\n",
       "      <td>...</td>\n",
       "      <td>No</td>\n",
       "      <td>No</td>\n",
       "      <td>No</td>\n",
       "      <td>No</td>\n",
       "      <td>Month-to-month</td>\n",
       "      <td>Yes</td>\n",
       "      <td>Electronic check</td>\n",
       "      <td>29.60</td>\n",
       "      <td>346.45</td>\n",
       "      <td>No</td>\n",
       "    </tr>\n",
       "    <tr>\n",
       "      <th>7041</th>\n",
       "      <td>8361-LTMKD</td>\n",
       "      <td>Male</td>\n",
       "      <td>1</td>\n",
       "      <td>Yes</td>\n",
       "      <td>No</td>\n",
       "      <td>4</td>\n",
       "      <td>Yes</td>\n",
       "      <td>Yes</td>\n",
       "      <td>Fiber optic</td>\n",
       "      <td>No</td>\n",
       "      <td>...</td>\n",
       "      <td>No</td>\n",
       "      <td>No</td>\n",
       "      <td>No</td>\n",
       "      <td>No</td>\n",
       "      <td>Month-to-month</td>\n",
       "      <td>Yes</td>\n",
       "      <td>Mailed check</td>\n",
       "      <td>74.40</td>\n",
       "      <td>306.60</td>\n",
       "      <td>Yes</td>\n",
       "    </tr>\n",
       "    <tr>\n",
       "      <th>7042</th>\n",
       "      <td>3186-AJIEK</td>\n",
       "      <td>Male</td>\n",
       "      <td>0</td>\n",
       "      <td>No</td>\n",
       "      <td>No</td>\n",
       "      <td>66</td>\n",
       "      <td>Yes</td>\n",
       "      <td>No</td>\n",
       "      <td>Fiber optic</td>\n",
       "      <td>Yes</td>\n",
       "      <td>...</td>\n",
       "      <td>Yes</td>\n",
       "      <td>Yes</td>\n",
       "      <td>Yes</td>\n",
       "      <td>Yes</td>\n",
       "      <td>Two year</td>\n",
       "      <td>Yes</td>\n",
       "      <td>Bank transfer (automatic)</td>\n",
       "      <td>105.65</td>\n",
       "      <td>6844.50</td>\n",
       "      <td>No</td>\n",
       "    </tr>\n",
       "  </tbody>\n",
       "</table>\n",
       "<p>7032 rows × 21 columns</p>\n",
       "</div>"
      ],
      "text/plain": [
       "      customerid  gender  seniorcitizen partner dependents  tenure  \\\n",
       "0     7590-VHVEG  Female              0     Yes         No       1   \n",
       "1     5575-GNVDE    Male              0      No         No      34   \n",
       "2     3668-QPYBK    Male              0      No         No       2   \n",
       "3     7795-CFOCW    Male              0      No         No      45   \n",
       "4     9237-HQITU  Female              0      No         No       2   \n",
       "...          ...     ...            ...     ...        ...     ...   \n",
       "7038  6840-RESVB    Male              0     Yes        Yes      24   \n",
       "7039  2234-XADUH  Female              0     Yes        Yes      72   \n",
       "7040  4801-JZAZL  Female              0     Yes        Yes      11   \n",
       "7041  8361-LTMKD    Male              1     Yes         No       4   \n",
       "7042  3186-AJIEK    Male              0      No         No      66   \n",
       "\n",
       "     phoneservice     multiplelines internetservice onlinesecurity  ...  \\\n",
       "0              No  No phone service             DSL             No  ...   \n",
       "1             Yes                No             DSL            Yes  ...   \n",
       "2             Yes                No             DSL            Yes  ...   \n",
       "3              No  No phone service             DSL            Yes  ...   \n",
       "4             Yes                No     Fiber optic             No  ...   \n",
       "...           ...               ...             ...            ...  ...   \n",
       "7038          Yes               Yes             DSL            Yes  ...   \n",
       "7039          Yes               Yes     Fiber optic             No  ...   \n",
       "7040           No  No phone service             DSL            Yes  ...   \n",
       "7041          Yes               Yes     Fiber optic             No  ...   \n",
       "7042          Yes                No     Fiber optic            Yes  ...   \n",
       "\n",
       "     deviceprotection techsupport streamingtv streamingmovies        contract  \\\n",
       "0                  No          No          No              No  Month-to-month   \n",
       "1                 Yes          No          No              No        One year   \n",
       "2                  No          No          No              No  Month-to-month   \n",
       "3                 Yes         Yes          No              No        One year   \n",
       "4                  No          No          No              No  Month-to-month   \n",
       "...               ...         ...         ...             ...             ...   \n",
       "7038              Yes         Yes         Yes             Yes        One year   \n",
       "7039              Yes          No         Yes             Yes        One year   \n",
       "7040               No          No          No              No  Month-to-month   \n",
       "7041               No          No          No              No  Month-to-month   \n",
       "7042              Yes         Yes         Yes             Yes        Two year   \n",
       "\n",
       "     paperlessbilling              paymentmethod monthlycharges  totalcharges  \\\n",
       "0                 Yes           Electronic check          29.85         29.85   \n",
       "1                  No               Mailed check          56.95       1889.50   \n",
       "2                 Yes               Mailed check          53.85        108.15   \n",
       "3                  No  Bank transfer (automatic)          42.30       1840.75   \n",
       "4                 Yes           Electronic check          70.70        151.65   \n",
       "...               ...                        ...            ...           ...   \n",
       "7038              Yes               Mailed check          84.80       1990.50   \n",
       "7039              Yes    Credit card (automatic)         103.20       7362.90   \n",
       "7040              Yes           Electronic check          29.60        346.45   \n",
       "7041              Yes               Mailed check          74.40        306.60   \n",
       "7042              Yes  Bank transfer (automatic)         105.65       6844.50   \n",
       "\n",
       "      churn  \n",
       "0        No  \n",
       "1        No  \n",
       "2       Yes  \n",
       "3        No  \n",
       "4       Yes  \n",
       "...     ...  \n",
       "7038     No  \n",
       "7039     No  \n",
       "7040     No  \n",
       "7041    Yes  \n",
       "7042     No  \n",
       "\n",
       "[7032 rows x 21 columns]"
      ]
     },
     "execution_count": 24,
     "metadata": {},
     "output_type": "execute_result"
    }
   ],
   "source": [
    "# Standardisasi nama kolom\n",
    "df_clean.columns = df_clean.columns.str.lower()\n",
    "\n",
    "# cek ulang\n",
    "df_clean"
   ]
  },
  {
   "cell_type": "markdown",
   "id": "1d045bd8",
   "metadata": {},
   "source": [
    "**Insight**:\n",
    "\n",
    "- Data sudah bersih\n",
    "- Tipe data sudah sesuai dengan kolom\n",
    "- Data sudah siap digunakan untuk dianalisa"
   ]
  },
  {
   "cell_type": "markdown",
   "id": "1bfbd9a2",
   "metadata": {},
   "source": [
    "---\n",
    "\n",
    "# **V. EXPLORATION AND ANALYSIS**"
   ]
  },
  {
   "cell_type": "markdown",
   "id": "671c690b",
   "metadata": {},
   "source": [
    "**Visualisasi Data**"
   ]
  },
  {
   "cell_type": "markdown",
   "id": "d27c289b",
   "metadata": {},
   "source": [
    "**1. Siapa pelanggan yang paling banyak churn?**"
   ]
  },
  {
   "cell_type": "code",
   "execution_count": 25,
   "id": "ca7a4d6f",
   "metadata": {},
   "outputs": [
    {
     "data": {
      "image/png": "[encoded data removed]",
      "text/plain": [
       "<Figure size 640x480 with 1 Axes>"
      ]
     },
     "metadata": {},
     "output_type": "display_data"
    }
   ],
   "source": [
    "import seaborn as sns\n",
    "import matplotlib.pyplot as plt\n",
    "\n",
    "# Visualisasi 1\n",
    "sns.countplot(data=df_clean, x='contract', hue='churn')\n",
    "plt.title('Distribusi Churn Berdasarkan Jenis Kontrak')\n",
    "plt.show()"
   ]
  },
  {
   "cell_type": "markdown",
   "id": "ef5fe5e1",
   "metadata": {},
   "source": [
    "> **Insight**: Visualisasi ini menunjukkan bahwa pelanggan dengan kontrak month-to-month memiliki tingkat churn yang jauh lebih tinggi dibandingkan pelanggan dengan kontrak satu tahun atau dua tahun. Artinya, pelanggan yang tidak terikat kontrak jangka panjang lebih mudah untuk berhenti berlangganan. Hal ini wajar karena pelanggan dengan kontrak jangka pendek tidak menghadapi hambatan finansial (seperti penalti) ketika memutuskan untuk berhenti."
   ]
  },
  {
   "cell_type": "markdown",
   "id": "e011c46a",
   "metadata": {},
   "source": [
    "**2. Apakah pelanggan yang churn membayar biaya langganan lebih mahal?**"
   ]
  },
  {
   "cell_type": "code",
   "execution_count": 26,
   "id": "8afe70c0",
   "metadata": {},
   "outputs": [
    {
     "data": {
      "image/png": "[encoded data removed]",
      "text/plain": [
       "<Figure size 640x480 with 1 Axes>"
      ]
     },
     "metadata": {},
     "output_type": "display_data"
    }
   ],
   "source": [
    "# Visualisai 2\n",
    "sns.boxplot(data=df_clean, x='churn', y='monthlycharges')\n",
    "plt.title('Perbandingan Monthly Charges pada Churn vs Non-Churn')\n",
    "plt.show()"
   ]
  },
  {
   "cell_type": "markdown",
   "id": "d9d78b40",
   "metadata": {},
   "source": [
    "> **Insight**: Hasil boxplot memperlihatkan bahwa rata-rata biaya bulanan (monthly charges) pelanggan yang churn lebih tinggi dibandingkan pelanggan yang tetap berlangganan. Bahkan terlihat adanya pelanggan churn dengan biaya bulanan pada rentang tertinggi (outlier). Hal ini mengindikasikan bahwa beban biaya bulanan yang tinggi bisa menjadi salah satu penyebab utama pelanggan berhenti."
   ]
  },
  {
   "cell_type": "markdown",
   "id": "5ba8e10e",
   "metadata": {},
   "source": [
    "**3. Layanan mana yang paling banyak churn rate-nya?**"
   ]
  },
  {
   "cell_type": "code",
   "execution_count": 27,
   "id": "016e43af",
   "metadata": {},
   "outputs": [
    {
     "data": {
      "image/png": "[encoded data removed]",
      "text/plain": [
       "<Figure size 640x480 with 1 Axes>"
      ]
     },
     "metadata": {},
     "output_type": "display_data"
    }
   ],
   "source": [
    "# Visualisasi 3\n",
    "sns.countplot(data=df_clean, x='internetservice', hue='churn')\n",
    "plt.title('Distribusi Churn berdasarkan Layanan Internet')\n",
    "plt.show()"
   ]
  },
  {
   "cell_type": "markdown",
   "id": "c31bac3a",
   "metadata": {},
   "source": [
    "> **Insight**: Pelanggan yang menggunakan layanan fiber optic memiliki tingkat churn yang lebih tinggi dibanding pelanggan dengan DSL atau tanpa layanan internet. Hal ini dapat mencerminkan bahwa meskipun fiber optic menawarkan kecepatan lebih tinggi, pelanggan mungkin merasa layanan tersebut tidak memenuhi ekspektasi (misalnya dari sisi reliabilitas, harga, atau experience pengguna)."
   ]
  },
  {
   "cell_type": "markdown",
   "id": "53beccd1",
   "metadata": {},
   "source": [
    "**4. Kapan churn rate cenderung lebih sering terjadi?**"
   ]
  },
  {
   "cell_type": "code",
   "execution_count": 28,
   "id": "8b88e1cd",
   "metadata": {},
   "outputs": [
    {
     "data": {
      "image/png": "[encoded data removed]",
      "text/plain": [
       "<Figure size 640x480 with 1 Axes>"
      ]
     },
     "metadata": {},
     "output_type": "display_data"
    }
   ],
   "source": [
    "# Visualisasi 4\n",
    "sns.histplot(data=df_clean, x='tenure', hue='churn', bins=30, kde=True)\n",
    "plt.title('Distribusi Tenure Pelanggan dan Churn')\n",
    "plt.show()"
   ]
  },
  {
   "cell_type": "markdown",
   "id": "e6b0b1b3",
   "metadata": {},
   "source": [
    "> **Insight**: Distribusi tenure menunjukkan bahwa churn paling sering terjadi pada pelanggan dengan masa langganan yang relatif singkat (di bawah 12 bulan). Semakin lama pelanggan bertahan, semakin kecil kemungkinan mereka akan churn. Hal ini menguatkan pola umum bahwa churn cenderung terjadi di awal masa hubungan pelanggan dengan perusahaan."
   ]
  },
  {
   "cell_type": "markdown",
   "id": "7fe8a023",
   "metadata": {},
   "source": [
    "**Statistika Deskriptif**"
   ]
  },
  {
   "cell_type": "markdown",
   "id": "f15f46f0",
   "metadata": {},
   "source": [
    "**5. Bagaimana karakteristik biaya pelanggan churn dibanding pelanggan aktif?**"
   ]
  },
  {
   "cell_type": "code",
   "execution_count": 29,
   "id": "2d06f336",
   "metadata": {},
   "outputs": [
    {
     "name": "stdout",
     "output_type": "stream",
     "text": [
      "Mean =  64.79820819112628\n",
      "Median =  70.35\n"
     ]
    }
   ],
   "source": [
    "mean = df_clean['monthlycharges'].mean()\n",
    "median = df_clean['monthlycharges'].median()\n",
    "\n",
    "print('Mean = ', mean)\n",
    "print('Median = ', median)"
   ]
  },
  {
   "cell_type": "markdown",
   "id": "cd41b86e",
   "metadata": {},
   "source": [
    "> Jika nilai median lebih besar dari nilai mean, maka ini menunjukkan bahwa distribusi data condong ke kiri (left skewed/negatively skewed), ini menandakan bahwa sebagian besar pelanggan membayar di atas rata-rata, tetapi ada beberapa pelanggan yang membayar sangat rendah, sehingga menarik nilai rata-rata ke bawah. Ada kemungkinan terdapat outlier atau sejumlah kecil pelanggan dengan biaya bulanan sangat rendah (mungkin karena diskon, paket promosi, atau layanan minimal), yang memengaruhi rata-rata menjadi lebih kecil dari median.\n",
    "\n"
   ]
  },
  {
   "cell_type": "code",
   "execution_count": 30,
   "id": "56578692",
   "metadata": {},
   "outputs": [
    {
     "name": "stdout",
     "output_type": "stream",
     "text": [
      "Mean =  2283.300440841866\n",
      "Median =  1397.475\n"
     ]
    }
   ],
   "source": [
    "mean = df_clean['totalcharges'].mean()\n",
    "median = df_clean['totalcharges'].median()\n",
    "\n",
    "print('Mean = ', mean)\n",
    "print('Median = ', median)"
   ]
  },
  {
   "cell_type": "markdown",
   "id": "b4275492",
   "metadata": {},
   "source": [
    "> Ketika nilai mean lebih besar daripada nilai median, maka distribusi data condong ke kanan bersifat positively skewed (right skewed). Ini berarti sebagian besar pelanggan memiliki total charges yang lebih rendah dari rata-rata. Namun, terdapat beberapa pelanggan dengan total charges yang sangat tinggi, sehingga menarik rata-rata ke atas. Ini menandakan adanya outlier di sisi kanan (pelanggan dengan penggunaan jangka panjang dan/atau tagihan tinggi)."
   ]
  },
  {
   "cell_type": "code",
   "execution_count": 31,
   "id": "4cd0b7be",
   "metadata": {},
   "outputs": [
    {
     "name": "stdout",
     "output_type": "stream",
     "text": [
      "Standard Deviasi =  30.085973884049842\n",
      "Variance =  905.1658245517292\n",
      "Range =  100.5\n"
     ]
    }
   ],
   "source": [
    "std = df_clean['monthlycharges'].std()\n",
    "variance = df_clean['monthlycharges'].var()\n",
    "range = df_clean['monthlycharges'].max() - df_clean['monthlycharges'].min()\n",
    "\n",
    "print('Standard Deviasi = ', std)\n",
    "print('Variance = ', variance)\n",
    "print('Range = ', range)"
   ]
  },
  {
   "cell_type": "code",
   "execution_count": 32,
   "id": "b27f7c86",
   "metadata": {},
   "outputs": [
    {
     "name": "stdout",
     "output_type": "stream",
     "text": [
      "Standard Deviasi =  2266.771361883145\n",
      "Variance =  5138252.407053568\n",
      "Range =  8666.0\n"
     ]
    }
   ],
   "source": [
    "std = df_clean['totalcharges'].std()\n",
    "variance = df_clean['totalcharges'].var()\n",
    "range = df_clean['totalcharges'].max() - df_clean['totalcharges'].min()\n",
    "\n",
    "print('Standard Deviasi = ', std)\n",
    "print('Variance = ', variance)\n",
    "print('Range = ', range)"
   ]
  },
  {
   "cell_type": "code",
   "execution_count": 33,
   "id": "264f3935",
   "metadata": {},
   "outputs": [
    {
     "name": "stdout",
     "output_type": "stream",
     "text": [
      "Skewness: -0.22210292770166232\n",
      "\n",
      "Kurtosis: -1.256156424371879\n"
     ]
    }
   ],
   "source": [
    "print(f\"Skewness: {df_clean['monthlycharges'].skew()}\") #--> distribusi data\n",
    "\n",
    "print(f\"\\nKurtosis: {df_clean['monthlycharges'].kurtosis()}\") #-->outlier"
   ]
  },
  {
   "cell_type": "code",
   "execution_count": 34,
   "id": "584eaae9",
   "metadata": {},
   "outputs": [
    {
     "name": "stdout",
     "output_type": "stream",
     "text": [
      "Skewness: 0.9616424997242504\n",
      "\n",
      "Kurtosis: -0.23179876086937945\n"
     ]
    }
   ],
   "source": [
    "print(f\"Skewness: {df_clean['totalcharges'].skew()}\") #--> distribusi data\n",
    "\n",
    "print(f\"\\nKurtosis: {df_clean['totalcharges'].kurtosis()}\") #-->outlier"
   ]
  },
  {
   "cell_type": "code",
   "execution_count": 35,
   "id": "fff765ac",
   "metadata": {},
   "outputs": [
    {
     "name": "stdout",
     "output_type": "stream",
     "text": [
      "Upper Boundary: 252.6875\n",
      "Lower Boundary: -127.23749999999998\n"
     ]
    }
   ],
   "source": [
    "q1 = df_clean['monthlycharges'].quantile(0.25)\n",
    "q3 = df_clean['monthlycharges'].quantile(0.75)\n",
    "iqr = q3 - q1\n",
    "\n",
    "up_bound = q3 + 3 * iqr\n",
    "low_bound = q1 - 3 * iqr\n",
    "\n",
    "print(f'Upper Boundary: {up_bound}')\n",
    "print(f'Lower Boundary: {low_bound}')"
   ]
  },
  {
   "cell_type": "code",
   "execution_count": 36,
   "id": "58d9ed3c",
   "metadata": {},
   "outputs": [
    {
     "name": "stdout",
     "output_type": "stream",
     "text": [
      "Upper Boundary: 13974.600000000002\n",
      "Lower Boundary: -9778.4125\n"
     ]
    }
   ],
   "source": [
    "q1 = df_clean['totalcharges'].quantile(0.25)\n",
    "q3 = df_clean['totalcharges'].quantile(0.75)\n",
    "iqr = q3 - q1\n",
    "\n",
    "up_bound = q3 + 3 * iqr\n",
    "low_bound = q1 - 3 * iqr\n",
    "\n",
    "print(f'Upper Boundary: {up_bound}')\n",
    "print(f'Lower Boundary: {low_bound}')"
   ]
  },
  {
   "cell_type": "markdown",
   "id": "92f5171d",
   "metadata": {},
   "source": [
    "> Karakteristik biaya pelanggan yang churn cenderung memiliki biaya bulanan (MonthlyCharges) yang lebih tinggi, namun total biaya keseluruhan (TotalCharges) yang lebih rendah dibanding pelanggan aktif. Hal ini mengindikasikan bahwa mereka kemungkinan besar berhenti berlangganan dalam waktu singkat, meskipun membayar lebih mahal setiap bulannya. Sebaliknya, pelanggan yang tetap aktif memiliki biaya bulanan yang lebih rendah namun total biaya yang tinggi, mencerminkan loyalitas dan durasi penggunaan yang lebih lama. Temuan ini menyiratkan bahwa biaya bulanan yang tinggi di awal langganan bisa menjadi faktor pendorong churn, sehingga strategi retensi pelanggan dapat difokuskan pada edukasi nilai layanan dan penyesuaian paket harga di tahap awal langganan.\n",
    "\n",
    "\n"
   ]
  },
  {
   "cell_type": "markdown",
   "id": "249062f3",
   "metadata": {},
   "source": [
    "**Statistika Inferensial**"
   ]
  },
  {
   "cell_type": "markdown",
   "id": "ff6210ca",
   "metadata": {},
   "source": [
    "**6. Apakah hubungan kontrak dan churn signifikan?**"
   ]
  },
  {
   "cell_type": "code",
   "execution_count": 37,
   "id": "f269bd89",
   "metadata": {},
   "outputs": [
    {
     "name": "stdout",
     "output_type": "stream",
     "text": [
      "Chi2: 1179.5458287339445, p-value: 7.326182186265472e-257\n"
     ]
    }
   ],
   "source": [
    "from scipy.stats import chi2_contingency\n",
    "\n",
    "ct = pd.crosstab(df_clean['contract'], df_clean['churn'])\n",
    "chi2, p, dof, ex = chi2_contingency(ct)\n",
    "print(f'Chi2: {chi2}, p-value: {p}')"
   ]
  },
  {
   "cell_type": "markdown",
   "id": "b1d13a35",
   "metadata": {},
   "source": [
    "> Berdasarkan hasil uji Chi-Square antara kontrak dan churn, diperoleh nilai statistik Chi-Square sebesar 1179.54 dengan p-value sebesar 7.33. Nilai p-value yang sangat kecil menunjukkan bahwa hasil uji ini sangat signifikan secara statistik. yang berarti terdapat perbedaan yang signifikan antara tipe kontrak dan churn."
   ]
  },
  {
   "cell_type": "markdown",
   "id": "7ff8b555",
   "metadata": {},
   "source": [
    "---\n",
    "\n",
    "# **VI. CONCLUSION**"
   ]
  },
  {
   "cell_type": "markdown",
   "id": "c5da1925",
   "metadata": {},
   "source": [
    "Berdasarkan hasil analisis, ditemukan bahwa tingkat churn secara signifikan lebih tinggi pada pelanggan dengan kontrak bulanan (month-to-month), dibandingkan dengan kontrak jangka panjang seperti satu atau dua tahun. Pelanggan yang churn juga cenderung membayar biaya bulanan (monthly charges) lebih tinggi, yang dapat menjadi salah satu faktor ketidakpuasan atau persepsi kurangnya nilai layanan. Selain itu, layanan internet dengan tipe fiber optic menunjukkan tingkat churn yang lebih tinggi dibanding DSL, mengindikasikan kemungkinan adanya masalah pada layanan atau harga yang tidak sebanding dengan harapan pelanggan. Analisis distribusi menunjukkan bahwa churn paling sering terjadi pada pelanggan dengan masa berlangganan yang masih singkat (tenure rendah), memperkuat dugaan bahwa churn banyak terjadi di awal masa langganan. Secara statistik, uji Chi-Square membuktikan adanya hubungan yang signifikan antara jenis kontrak dan status churn (p-value < 0.05), yang menegaskan bahwa faktor kontrak merupakan elemen penting yang perlu diperhatikan dalam strategi retensi pelanggan.\n",
    "\n",
    "**Rekomendasi**\n",
    "\n",
    "Berdasarkan temuan analisis, langkah strategis yang dapat dilakukan untuk menurunkan angka churn adalah dengan mendorong pelanggan berkontrak bulanan (month-to-month) untuk beralih ke kontrak tahunan melalui pemberian insentif menarik seperti diskon atau bonus layanan tambahan. Selain itu, perlu dilakukan review terhadap struktur harga dan paket layanan, khususnya bagi pelanggan dengan MonthlyCharges tinggi, guna memastikan harga yang dibayarkan sebanding dengan nilai yang dirasakan. Hal ini penting untuk menghindari persepsi overcharged yang dapat mendorong pelanggan berhenti. Selanjutnya, perusahaan juga perlu mengevaluasi kualitas layanan internet fiber optic, karena tingkat churn yang tinggi pada layanan ini dapat mengindikasikan adanya masalah performa, stabilitas, atau kepuasan pelanggan. Kombinasi dari pendekatan ini diharapkan mampu meningkatkan loyalitas pelanggan dan menurunkan churn secara berkelanjutan."
   ]
  }
 ],
 "metadata": {
  "kernelspec": {
   "display_name": "phase_0",
   "language": "python",
   "name": "python3"
  },
  "language_info": {
   "codemirror_mode": {
    "name": "ipython",
    "version": 3
   },
   "file_extension": ".py",
   "mimetype": "text/x-python",
   "name": "python",
   "nbconvert_exporter": "python",
   "pygments_lexer": "ipython3",
   "version": "3.10.16"
  }
 },
 "nbformat": 4,
 "nbformat_minor": 5
}
