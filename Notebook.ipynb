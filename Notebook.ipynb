{
 "cells": [
  {
   "cell_type": "markdown",
   "id": "94443603",
   "metadata": {},
   "source": [
    "---\n",
    "\n",
    "# **TELCO COMPANY CUSTOMER CHURN ANALYSIS & VISUALIZATION**\n",
    "\n",
    "**By: Yunido Baheramsyah**\n",
    "\n",
    "This project aims to analyze customer churn in a telecommunications company. By understanding the factors that contribute to churn, the company can take proactive measures to retain customers and reduce churn rates. Visualization techniques will be employed to present the findings effectively via Tableau.\n",
    "\n",
    "Tableau URL: https://public.tableau.com/app/profile/yunido.baheramsyah/viz/TelcoCustomerChurnAnalysis_17557333951600/TELCOCUSTOMERCHURNANALYSIS?publish=yes\n",
    "\n",
    "---"
   ]
  },
  {
   "cell_type": "markdown",
   "id": "cf528bea",
   "metadata": {},
   "source": [
    "# **I. INTRODUCTION**\n",
    "\n",
    "## **I.I. Background**\n",
    "\n",
    "Customer churn is a critical issue for telecommunications companies, as it directly impacts revenue and profitability. Understanding the reasons behind customer churn can help companies develop strategies to improve customer retention and satisfaction. This project will analyze customer data to identify key factors contributing to churn and visualize the findings using Tableau.\n",
    "\n",
    "## **I.II. Objectives**\n",
    "\n",
    "The main objectives of this project are:\n",
    "\n",
    "1. To analyze customer data and identify key factors contributing to churn.\n",
    "2. To visualize the findings using Tableau to facilitate better understanding and decision-making.\n",
    "3. To provide actionable insights and recommendations for reducing churn rates and improving customer retention.\n",
    "\n",
    "## **I.III. SMART Method**\n",
    "\n",
    "The SMART framework will be used as the analytical foundation for this project. The analysis specifically aims to identify key factors influencing customer churn, particularly focusing on contract types, payment methods, subscription duration, internet service usage, and monthly charges. The results will be measurable by achieving at least 80% prediction accuracy and delivering visual insights through graphical representations. This goal is achievable using a dataset of 7,043 customers, supported by statistical exploration and visualization using Python tools. The analysis is relevant as it will help the marketing and customer service teams develop loyalty programs and reduce churn by at least 10% over the next six months. The project is expected to be completed within two weeks."
   ]
  },
  {
   "cell_type": "markdown",
   "id": "f3bedaf0",
   "metadata": {},
   "source": [
    "---\n",
    "\n",
    "# **II. IMPORT LIBRARIES**"
   ]
  },
  {
   "cell_type": "code",
   "execution_count": 55,
   "id": "877d0031",
   "metadata": {},
   "outputs": [],
   "source": [
    "# Importing the pandas library for data manipulation and analysis\n",
    "import pandas as pd\n",
    "\n",
    "# Importing the numpy library for numerical operations and handling arrays\n",
    "import numpy as np\n",
    "\n",
    "# Importing the chi-squared test function\n",
    "from scipy.stats import chi2_contingency\n",
    "\n",
    "# Importing matplotlib's pyplot module for data visualization\n",
    "import matplotlib.pyplot as plt\n",
    "\n",
    "# Importing seaborn library for advanced and visually appealing statistical plots\n",
    "import seaborn as sns"
   ]
  },
  {
   "cell_type": "markdown",
   "id": "7b90c5b7",
   "metadata": {},
   "source": [
    "---\n",
    "\n",
    "# **III. LOAD DATASET**"
   ]
  },
  {
   "cell_type": "code",
   "execution_count": 56,
   "id": "29ea719b",
   "metadata": {},
   "outputs": [
    {
     "data": {
      "text/html": [
       "<div>\n",
       "<style scoped>\n",
       "    .dataframe tbody tr th:only-of-type {\n",
       "        vertical-align: middle;\n",
       "    }\n",
       "\n",
       "    .dataframe tbody tr th {\n",
       "        vertical-align: top;\n",
       "    }\n",
       "\n",
       "    .dataframe thead th {\n",
       "        text-align: right;\n",
       "    }\n",
       "</style>\n",
       "<table border=\"1\" class=\"dataframe\">\n",
       "  <thead>\n",
       "    <tr style=\"text-align: right;\">\n",
       "      <th></th>\n",
       "      <th>customerID</th>\n",
       "      <th>gender</th>\n",
       "      <th>SeniorCitizen</th>\n",
       "      <th>Partner</th>\n",
       "      <th>Dependents</th>\n",
       "      <th>tenure</th>\n",
       "      <th>PhoneService</th>\n",
       "      <th>MultipleLines</th>\n",
       "      <th>InternetService</th>\n",
       "      <th>OnlineSecurity</th>\n",
       "      <th>...</th>\n",
       "      <th>DeviceProtection</th>\n",
       "      <th>TechSupport</th>\n",
       "      <th>StreamingTV</th>\n",
       "      <th>StreamingMovies</th>\n",
       "      <th>Contract</th>\n",
       "      <th>PaperlessBilling</th>\n",
       "      <th>PaymentMethod</th>\n",
       "      <th>MonthlyCharges</th>\n",
       "      <th>TotalCharges</th>\n",
       "      <th>Churn</th>\n",
       "    </tr>\n",
       "  </thead>\n",
       "  <tbody>\n",
       "    <tr>\n",
       "      <th>0</th>\n",
       "      <td>7590-VHVEG</td>\n",
       "      <td>Female</td>\n",
       "      <td>0</td>\n",
       "      <td>Yes</td>\n",
       "      <td>No</td>\n",
       "      <td>1</td>\n",
       "      <td>No</td>\n",
       "      <td>No phone service</td>\n",
       "      <td>DSL</td>\n",
       "      <td>No</td>\n",
       "      <td>...</td>\n",
       "      <td>No</td>\n",
       "      <td>No</td>\n",
       "      <td>No</td>\n",
       "      <td>No</td>\n",
       "      <td>Month-to-month</td>\n",
       "      <td>Yes</td>\n",
       "      <td>Electronic check</td>\n",
       "      <td>29.85</td>\n",
       "      <td>29.85</td>\n",
       "      <td>No</td>\n",
       "    </tr>\n",
       "    <tr>\n",
       "      <th>1</th>\n",
       "      <td>5575-GNVDE</td>\n",
       "      <td>Male</td>\n",
       "      <td>0</td>\n",
       "      <td>No</td>\n",
       "      <td>No</td>\n",
       "      <td>34</td>\n",
       "      <td>Yes</td>\n",
       "      <td>No</td>\n",
       "      <td>DSL</td>\n",
       "      <td>Yes</td>\n",
       "      <td>...</td>\n",
       "      <td>Yes</td>\n",
       "      <td>No</td>\n",
       "      <td>No</td>\n",
       "      <td>No</td>\n",
       "      <td>One year</td>\n",
       "      <td>No</td>\n",
       "      <td>Mailed check</td>\n",
       "      <td>56.95</td>\n",
       "      <td>1889.5</td>\n",
       "      <td>No</td>\n",
       "    </tr>\n",
       "    <tr>\n",
       "      <th>2</th>\n",
       "      <td>3668-QPYBK</td>\n",
       "      <td>Male</td>\n",
       "      <td>0</td>\n",
       "      <td>No</td>\n",
       "      <td>No</td>\n",
       "      <td>2</td>\n",
       "      <td>Yes</td>\n",
       "      <td>No</td>\n",
       "      <td>DSL</td>\n",
       "      <td>Yes</td>\n",
       "      <td>...</td>\n",
       "      <td>No</td>\n",
       "      <td>No</td>\n",
       "      <td>No</td>\n",
       "      <td>No</td>\n",
       "      <td>Month-to-month</td>\n",
       "      <td>Yes</td>\n",
       "      <td>Mailed check</td>\n",
       "      <td>53.85</td>\n",
       "      <td>108.15</td>\n",
       "      <td>Yes</td>\n",
       "    </tr>\n",
       "    <tr>\n",
       "      <th>3</th>\n",
       "      <td>7795-CFOCW</td>\n",
       "      <td>Male</td>\n",
       "      <td>0</td>\n",
       "      <td>No</td>\n",
       "      <td>No</td>\n",
       "      <td>45</td>\n",
       "      <td>No</td>\n",
       "      <td>No phone service</td>\n",
       "      <td>DSL</td>\n",
       "      <td>Yes</td>\n",
       "      <td>...</td>\n",
       "      <td>Yes</td>\n",
       "      <td>Yes</td>\n",
       "      <td>No</td>\n",
       "      <td>No</td>\n",
       "      <td>One year</td>\n",
       "      <td>No</td>\n",
       "      <td>Bank transfer (automatic)</td>\n",
       "      <td>42.30</td>\n",
       "      <td>1840.75</td>\n",
       "      <td>No</td>\n",
       "    </tr>\n",
       "    <tr>\n",
       "      <th>4</th>\n",
       "      <td>9237-HQITU</td>\n",
       "      <td>Female</td>\n",
       "      <td>0</td>\n",
       "      <td>No</td>\n",
       "      <td>No</td>\n",
       "      <td>2</td>\n",
       "      <td>Yes</td>\n",
       "      <td>No</td>\n",
       "      <td>Fiber optic</td>\n",
       "      <td>No</td>\n",
       "      <td>...</td>\n",
       "      <td>No</td>\n",
       "      <td>No</td>\n",
       "      <td>No</td>\n",
       "      <td>No</td>\n",
       "      <td>Month-to-month</td>\n",
       "      <td>Yes</td>\n",
       "      <td>Electronic check</td>\n",
       "      <td>70.70</td>\n",
       "      <td>151.65</td>\n",
       "      <td>Yes</td>\n",
       "    </tr>\n",
       "  </tbody>\n",
       "</table>\n",
       "<p>5 rows × 21 columns</p>\n",
       "</div>"
      ],
      "text/plain": [
       "   customerID  gender  SeniorCitizen Partner Dependents  tenure PhoneService  \\\n",
       "0  7590-VHVEG  Female              0     Yes         No       1           No   \n",
       "1  5575-GNVDE    Male              0      No         No      34          Yes   \n",
       "2  3668-QPYBK    Male              0      No         No       2          Yes   \n",
       "3  7795-CFOCW    Male              0      No         No      45           No   \n",
       "4  9237-HQITU  Female              0      No         No       2          Yes   \n",
       "\n",
       "      MultipleLines InternetService OnlineSecurity  ... DeviceProtection  \\\n",
       "0  No phone service             DSL             No  ...               No   \n",
       "1                No             DSL            Yes  ...              Yes   \n",
       "2                No             DSL            Yes  ...               No   \n",
       "3  No phone service             DSL            Yes  ...              Yes   \n",
       "4                No     Fiber optic             No  ...               No   \n",
       "\n",
       "  TechSupport StreamingTV StreamingMovies        Contract PaperlessBilling  \\\n",
       "0          No          No              No  Month-to-month              Yes   \n",
       "1          No          No              No        One year               No   \n",
       "2          No          No              No  Month-to-month              Yes   \n",
       "3         Yes          No              No        One year               No   \n",
       "4          No          No              No  Month-to-month              Yes   \n",
       "\n",
       "               PaymentMethod MonthlyCharges  TotalCharges Churn  \n",
       "0           Electronic check          29.85         29.85    No  \n",
       "1               Mailed check          56.95        1889.5    No  \n",
       "2               Mailed check          53.85        108.15   Yes  \n",
       "3  Bank transfer (automatic)          42.30       1840.75    No  \n",
       "4           Electronic check          70.70        151.65   Yes  \n",
       "\n",
       "[5 rows x 21 columns]"
      ]
     },
     "execution_count": 56,
     "metadata": {},
     "output_type": "execute_result"
    }
   ],
   "source": [
    "# Loading the dataset from a CSV file into a pandas DataFrame\n",
    "df = pd.read_csv('telco_customer_churn.csv')\n",
    "\n",
    "# Displaying the first few rows of the dataset\n",
    "df.head()"
   ]
  },
  {
   "cell_type": "markdown",
   "id": "9c97b008",
   "metadata": {},
   "source": [
    "> **Insight:**\n",
    "\n",
    "The dataset contains customer information, including demographics, account details, and whether they have churned (i.e., stopped using the service). Understanding the features and their distributions is crucial for building effective predictive models.\n"
   ]
  },
  {
   "cell_type": "code",
   "execution_count": 57,
   "id": "efd89329",
   "metadata": {},
   "outputs": [
    {
     "name": "stdout",
     "output_type": "stream",
     "text": [
      "<class 'pandas.core.frame.DataFrame'>\n",
      "RangeIndex: 7043 entries, 0 to 7042\n",
      "Data columns (total 21 columns):\n",
      " #   Column            Non-Null Count  Dtype  \n",
      "---  ------            --------------  -----  \n",
      " 0   customerID        7043 non-null   object \n",
      " 1   gender            7043 non-null   object \n",
      " 2   SeniorCitizen     7043 non-null   int64  \n",
      " 3   Partner           7043 non-null   object \n",
      " 4   Dependents        7043 non-null   object \n",
      " 5   tenure            7043 non-null   int64  \n",
      " 6   PhoneService      7043 non-null   object \n",
      " 7   MultipleLines     7043 non-null   object \n",
      " 8   InternetService   7043 non-null   object \n",
      " 9   OnlineSecurity    7043 non-null   object \n",
      " 10  OnlineBackup      7043 non-null   object \n",
      " 11  DeviceProtection  7043 non-null   object \n",
      " 12  TechSupport       7043 non-null   object \n",
      " 13  StreamingTV       7043 non-null   object \n",
      " 14  StreamingMovies   7043 non-null   object \n",
      " 15  Contract          7043 non-null   object \n",
      " 16  PaperlessBilling  7043 non-null   object \n",
      " 17  PaymentMethod     7043 non-null   object \n",
      " 18  MonthlyCharges    7043 non-null   float64\n",
      " 19  TotalCharges      7043 non-null   object \n",
      " 20  Churn             7043 non-null   object \n",
      "dtypes: float64(1), int64(2), object(18)\n",
      "memory usage: 1.1+ MB\n"
     ]
    },
    {
     "data": {
      "text/html": [
       "<div>\n",
       "<style scoped>\n",
       "    .dataframe tbody tr th:only-of-type {\n",
       "        vertical-align: middle;\n",
       "    }\n",
       "\n",
       "    .dataframe tbody tr th {\n",
       "        vertical-align: top;\n",
       "    }\n",
       "\n",
       "    .dataframe thead th {\n",
       "        text-align: right;\n",
       "    }\n",
       "</style>\n",
       "<table border=\"1\" class=\"dataframe\">\n",
       "  <thead>\n",
       "    <tr style=\"text-align: right;\">\n",
       "      <th></th>\n",
       "      <th>SeniorCitizen</th>\n",
       "      <th>tenure</th>\n",
       "      <th>MonthlyCharges</th>\n",
       "    </tr>\n",
       "  </thead>\n",
       "  <tbody>\n",
       "    <tr>\n",
       "      <th>count</th>\n",
       "      <td>7043.000000</td>\n",
       "      <td>7043.000000</td>\n",
       "      <td>7043.000000</td>\n",
       "    </tr>\n",
       "    <tr>\n",
       "      <th>mean</th>\n",
       "      <td>0.162147</td>\n",
       "      <td>32.371149</td>\n",
       "      <td>64.761692</td>\n",
       "    </tr>\n",
       "    <tr>\n",
       "      <th>std</th>\n",
       "      <td>0.368612</td>\n",
       "      <td>24.559481</td>\n",
       "      <td>30.090047</td>\n",
       "    </tr>\n",
       "    <tr>\n",
       "      <th>min</th>\n",
       "      <td>0.000000</td>\n",
       "      <td>0.000000</td>\n",
       "      <td>18.250000</td>\n",
       "    </tr>\n",
       "    <tr>\n",
       "      <th>25%</th>\n",
       "      <td>0.000000</td>\n",
       "      <td>9.000000</td>\n",
       "      <td>35.500000</td>\n",
       "    </tr>\n",
       "    <tr>\n",
       "      <th>50%</th>\n",
       "      <td>0.000000</td>\n",
       "      <td>29.000000</td>\n",
       "      <td>70.350000</td>\n",
       "    </tr>\n",
       "    <tr>\n",
       "      <th>75%</th>\n",
       "      <td>0.000000</td>\n",
       "      <td>55.000000</td>\n",
       "      <td>89.850000</td>\n",
       "    </tr>\n",
       "    <tr>\n",
       "      <th>max</th>\n",
       "      <td>1.000000</td>\n",
       "      <td>72.000000</td>\n",
       "      <td>118.750000</td>\n",
       "    </tr>\n",
       "  </tbody>\n",
       "</table>\n",
       "</div>"
      ],
      "text/plain": [
       "       SeniorCitizen       tenure  MonthlyCharges\n",
       "count    7043.000000  7043.000000     7043.000000\n",
       "mean        0.162147    32.371149       64.761692\n",
       "std         0.368612    24.559481       30.090047\n",
       "min         0.000000     0.000000       18.250000\n",
       "25%         0.000000     9.000000       35.500000\n",
       "50%         0.000000    29.000000       70.350000\n",
       "75%         0.000000    55.000000       89.850000\n",
       "max         1.000000    72.000000      118.750000"
      ]
     },
     "execution_count": 57,
     "metadata": {},
     "output_type": "execute_result"
    }
   ],
   "source": [
    "# Display dataset information including data types and non-null counts\n",
    "df.info()\n",
    "\n",
    "# Display initial statistical summary of numerical columns\n",
    "df.describe()"
   ]
  },
  {
   "cell_type": "markdown",
   "id": "f893f330",
   "metadata": {},
   "source": [
    "> **Insight:**\n",
    "\n",
    "The dataset contains a mix of numerical and categorical features, with some missing values (NaN) present. The initial analysis shows that the majority of customers are not churned, indicating a potential class imbalance issue for predictive modeling. 'TotalCharges' should be numeric instead of object\n",
    "\n",
    "> **Next Steps:**\n",
    "1. Data Cleaning:\n",
    "   - Convert 'TotalCharges' to numeric.\n",
    "   - Address missing values (e.g., imputation).\n",
    "2. Exploratory Data Analysis (EDA):\n",
    "   - Visualize feature distributions and correlations.\n"
   ]
  },
  {
   "cell_type": "markdown",
   "id": "bde67f48",
   "metadata": {},
   "source": [
    "# **IV. DATA CLEANING**\n",
    "- Convert 'TotalCharges' to numeric.\n",
    "- Address missing values (e.g., imputation)."
   ]
  },
  {
   "cell_type": "code",
   "execution_count": 58,
   "id": "1b93e941",
   "metadata": {},
   "outputs": [
    {
     "name": "stdout",
     "output_type": "stream",
     "text": [
      "<class 'pandas.core.frame.DataFrame'>\n",
      "RangeIndex: 7043 entries, 0 to 7042\n",
      "Data columns (total 21 columns):\n",
      " #   Column            Non-Null Count  Dtype  \n",
      "---  ------            --------------  -----  \n",
      " 0   customerID        7043 non-null   object \n",
      " 1   gender            7043 non-null   object \n",
      " 2   SeniorCitizen     7043 non-null   int64  \n",
      " 3   Partner           7043 non-null   object \n",
      " 4   Dependents        7043 non-null   object \n",
      " 5   tenure            7043 non-null   int64  \n",
      " 6   PhoneService      7043 non-null   object \n",
      " 7   MultipleLines     7043 non-null   object \n",
      " 8   InternetService   7043 non-null   object \n",
      " 9   OnlineSecurity    7043 non-null   object \n",
      " 10  OnlineBackup      7043 non-null   object \n",
      " 11  DeviceProtection  7043 non-null   object \n",
      " 12  TechSupport       7043 non-null   object \n",
      " 13  StreamingTV       7043 non-null   object \n",
      " 14  StreamingMovies   7043 non-null   object \n",
      " 15  Contract          7043 non-null   object \n",
      " 16  PaperlessBilling  7043 non-null   object \n",
      " 17  PaymentMethod     7043 non-null   object \n",
      " 18  MonthlyCharges    7043 non-null   float64\n",
      " 19  TotalCharges      7032 non-null   float64\n",
      " 20  Churn             7043 non-null   object \n",
      "dtypes: float64(2), int64(2), object(17)\n",
      "memory usage: 1.1+ MB\n"
     ]
    }
   ],
   "source": [
    "# Convert the data type of the 'TotalCharges' column from string to float\n",
    "df['TotalCharges'] = pd.to_numeric(df['TotalCharges'], errors='coerce')\n",
    "\n",
    "df.info()"
   ]
  },
  {
   "cell_type": "markdown",
   "id": "93ad7adb",
   "metadata": {},
   "source": [
    "> TotalCharges has been converted to numeric type.\n",
    "\n",
    "---"
   ]
  },
  {
   "cell_type": "code",
   "execution_count": 59,
   "id": "aadc88e5",
   "metadata": {},
   "outputs": [
    {
     "data": {
      "text/plain": [
       "11"
      ]
     },
     "execution_count": 59,
     "metadata": {},
     "output_type": "execute_result"
    }
   ],
   "source": [
    "# Count the number of NaN values in the 'TotalCharges' column\n",
    "df['TotalCharges'].isna().sum()"
   ]
  },
  {
   "cell_type": "markdown",
   "id": "ed184f27",
   "metadata": {},
   "source": [
    "> TotalCharges has 11 missing values.\n",
    "\n",
    "---"
   ]
  },
  {
   "cell_type": "code",
   "execution_count": 60,
   "id": "61672ab1",
   "metadata": {},
   "outputs": [
    {
     "name": "stdout",
     "output_type": "stream",
     "text": [
      "<class 'pandas.core.frame.DataFrame'>\n",
      "Index: 7032 entries, 0 to 7042\n",
      "Data columns (total 21 columns):\n",
      " #   Column            Non-Null Count  Dtype  \n",
      "---  ------            --------------  -----  \n",
      " 0   customerID        7032 non-null   object \n",
      " 1   gender            7032 non-null   object \n",
      " 2   SeniorCitizen     7032 non-null   int64  \n",
      " 3   Partner           7032 non-null   object \n",
      " 4   Dependents        7032 non-null   object \n",
      " 5   tenure            7032 non-null   int64  \n",
      " 6   PhoneService      7032 non-null   object \n",
      " 7   MultipleLines     7032 non-null   object \n",
      " 8   InternetService   7032 non-null   object \n",
      " 9   OnlineSecurity    7032 non-null   object \n",
      " 10  OnlineBackup      7032 non-null   object \n",
      " 11  DeviceProtection  7032 non-null   object \n",
      " 12  TechSupport       7032 non-null   object \n",
      " 13  StreamingTV       7032 non-null   object \n",
      " 14  StreamingMovies   7032 non-null   object \n",
      " 15  Contract          7032 non-null   object \n",
      " 16  PaperlessBilling  7032 non-null   object \n",
      " 17  PaymentMethod     7032 non-null   object \n",
      " 18  MonthlyCharges    7032 non-null   float64\n",
      " 19  TotalCharges      7032 non-null   float64\n",
      " 20  Churn             7032 non-null   object \n",
      "dtypes: float64(2), int64(2), object(17)\n",
      "memory usage: 1.2+ MB\n"
     ]
    }
   ],
   "source": [
    "# Drop rows with missing values in the 'TotalCharges' column\n",
    "df = df.dropna(subset=['TotalCharges'])\n",
    "\n",
    "df.info()"
   ]
  },
  {
   "cell_type": "markdown",
   "id": "b47ac5d3",
   "metadata": {},
   "source": [
    "> Rows with missing values in the 'TotalCharges' column have been dropped.\n",
    "\n",
    "---"
   ]
  },
  {
   "cell_type": "code",
   "execution_count": 61,
   "id": "80bd278b",
   "metadata": {},
   "outputs": [
    {
     "name": "stdout",
     "output_type": "stream",
     "text": [
      "<class 'pandas.core.frame.DataFrame'>\n",
      "Index: 7032 entries, 0 to 7042\n",
      "Data columns (total 21 columns):\n",
      " #   Column            Non-Null Count  Dtype  \n",
      "---  ------            --------------  -----  \n",
      " 0   customerid        7032 non-null   object \n",
      " 1   gender            7032 non-null   object \n",
      " 2   seniorcitizen     7032 non-null   int64  \n",
      " 3   partner           7032 non-null   object \n",
      " 4   dependents        7032 non-null   object \n",
      " 5   tenure            7032 non-null   int64  \n",
      " 6   phoneservice      7032 non-null   object \n",
      " 7   multiplelines     7032 non-null   object \n",
      " 8   internetservice   7032 non-null   object \n",
      " 9   onlinesecurity    7032 non-null   object \n",
      " 10  onlinebackup      7032 non-null   object \n",
      " 11  deviceprotection  7032 non-null   object \n",
      " 12  techsupport       7032 non-null   object \n",
      " 13  streamingtv       7032 non-null   object \n",
      " 14  streamingmovies   7032 non-null   object \n",
      " 15  contract          7032 non-null   object \n",
      " 16  paperlessbilling  7032 non-null   object \n",
      " 17  paymentmethod     7032 non-null   object \n",
      " 18  monthlycharges    7032 non-null   float64\n",
      " 19  totalcharges      7032 non-null   float64\n",
      " 20  churn             7032 non-null   object \n",
      "dtypes: float64(2), int64(2), object(17)\n",
      "memory usage: 1.2+ MB\n"
     ]
    }
   ],
   "source": [
    "# Standardize column names\n",
    "df.columns = df.columns.str.strip().str.lower().str.replace(' ', '_')\n",
    "\n",
    "# recheck the DataFrame info\n",
    "df.info()\n"
   ]
  },
  {
   "cell_type": "markdown",
   "id": "d4c84223",
   "metadata": {},
   "source": [
    "> Data has been cleaned, and the following steps have been performed:\n",
    "> - Missing values in the 'TotalCharges' column have been dropped.\n",
    "> - Column names have been standardized.\n",
    "\n",
    "---"
   ]
  },
  {
   "cell_type": "markdown",
   "id": "906b844b",
   "metadata": {},
   "source": [
    "# **V. EXPLORATORY DATA ANALYSIS (EDA)**\n",
    "\n",
    "#### **V.I. Visualizations**\n",
    "\n",
    "**1. What is the distribution of churned vs. non-churned customers?**"
   ]
  },
  {
   "cell_type": "code",
   "execution_count": 62,
   "id": "462892a2",
   "metadata": {},
   "outputs": [
    {
     "name": "stderr",
     "output_type": "stream",
     "text": [
      "C:\\Users\\User\\AppData\\Local\\Temp\\ipykernel_18508\\1642101061.py:2: FutureWarning: \n",
      "\n",
      "Passing `palette` without assigning `hue` is deprecated and will be removed in v0.14.0. Assign the `x` variable to `hue` and set `legend=False` for the same effect.\n",
      "\n",
      "  ax = sns.countplot(x='churn', data=df, palette='Set2')\n"
     ]
    },
    {
     "data": {
      "text/plain": [
       "Text(0, 0.5, 'Count')"
      ]
     },
     "execution_count": 62,
     "metadata": {},
     "output_type": "execute_result"
    },
    {
     "data": {
      "image/png": "[encoded data removed]",
      "text/plain": [
       "<Figure size 640x480 with 1 Axes>"
      ]
     },
     "metadata": {},
     "output_type": "display_data"
    }
   ],
   "source": [
    "sns.set(style=\"whitegrid\")\n",
    "ax = sns.countplot(x='churn', data=df, palette='Set2')\n",
    "ax.set_title('Churn Distribution')\n",
    "ax.set_xlabel('Churn')\n",
    "ax.set_ylabel('Count')"
   ]
  },
  {
   "cell_type": "markdown",
   "id": "0a669145",
   "metadata": {},
   "source": [
    "> **Insight:**\n",
    "\n",
    "The bar chart titled \"Churn Distribution\" shows a clear imbalance between customers who have churned and those who have not. A significantly higher number of customers chose to stay with the company (“No” churn) compared to those who decided to leave (“Yes” churn). This indicates that although customer churn is a concern, the majority of customers are currently retained. However, the noticeable portion of churned customers also highlights the need to investigate the underlying factors contributing to churn and implement strategies to improve customer retention.\n",
    "\n",
    "---"
   ]
  },
  {
   "cell_type": "markdown",
   "id": "c9f4a14f",
   "metadata": {},
   "source": [
    "**2. What are the characteristics of churned customers compared to non-churned customers?**"
   ]
  },
  {
   "cell_type": "code",
   "execution_count": 63,
   "id": "540c0849",
   "metadata": {},
   "outputs": [
    {
     "name": "stderr",
     "output_type": "stream",
     "text": [
      "C:\\Users\\User\\AppData\\Local\\Temp\\ipykernel_18508\\4198346929.py:3: FutureWarning: \n",
      "\n",
      "Passing `palette` without assigning `hue` is deprecated and will be removed in v0.14.0. Assign the `x` variable to `hue` and set `legend=False` for the same effect.\n",
      "\n",
      "  sns.boxplot(x='churn', y='monthlycharges', data=df, palette='Set2')\n"
     ]
    },
    {
     "data": {
      "image/png": "[encoded data removed]",
      "text/plain": [
       "<Figure size 1200x600 with 1 Axes>"
      ]
     },
     "metadata": {},
     "output_type": "display_data"
    }
   ],
   "source": [
    "sns.set(style=\"whitegrid\")\n",
    "plt.figure(figsize=(12, 6))\n",
    "sns.boxplot(x='churn', y='monthlycharges', data=df, palette='Set2')\n",
    "plt.title('Monthly Charges by Churn Status')\n",
    "plt.show()"
   ]
  },
  {
   "cell_type": "markdown",
   "id": "28f37b08",
   "metadata": {},
   "source": [
    "> **Insight:**\n",
    "\n",
    "The box plot titled \"Monthly Charges by Churn Status\" reveals important differences in the distribution of monthly charges between churned and non-churned customers. Churned customers tend to have higher monthly charges, with a greater spread of values, indicating that those who left the service may have been on more expensive plans or experienced price increases. In contrast, non-churned customers generally have lower monthly charges, suggesting that pricing strategies or service offerings may play a role in customer retention. This insight emphasizes the need for further analysis into pricing structures and customer satisfaction to address churn effectively.\n",
    "\n",
    "---"
   ]
  },
  {
   "cell_type": "markdown",
   "id": "09770c55",
   "metadata": {},
   "source": [
    "**3. What are the key differences in demographics between churned and non-churned customers?**"
   ]
  },
  {
   "cell_type": "code",
   "execution_count": 64,
   "id": "e3970b19",
   "metadata": {},
   "outputs": [
    {
     "data": {
      "image/png": "[encoded data removed]",
      "text/plain": [
       "<Figure size 1200x600 with 1 Axes>"
      ]
     },
     "metadata": {},
     "output_type": "display_data"
    }
   ],
   "source": [
    "sns.set(style=\"whitegrid\")\n",
    "plt.figure(figsize=(12, 6))\n",
    "sns.countplot(x='gender', hue='churn', data=df, palette='Set2')\n",
    "plt.title('Churn by Gender')\n",
    "plt.show()\n"
   ]
  },
  {
   "cell_type": "markdown",
   "id": "37aea06b",
   "metadata": {},
   "source": [
    "> **Insight:**\n",
    "\n",
    "The count plot titled \"Churn by Gender\" indicates that there are notable differences in churn rates between male and female customers. It appears that female customers have a higher churn rate compared to their male counterparts. This finding suggests that gender may play a role in customer retention, and further investigation into the reasons behind this disparity could provide valuable insights for targeted retention strategies.\n",
    "\n",
    "---"
   ]
  },
  {
   "cell_type": "markdown",
   "id": "dbe5732c",
   "metadata": {},
   "source": [
    "**4. Are there specific services or features that are more commonly associated with churn?**"
   ]
  },
  {
   "cell_type": "code",
   "execution_count": 65,
   "id": "0079dd2e",
   "metadata": {},
   "outputs": [
    {
     "data": {
      "image/png": "[encoded data removed]",
      "text/plain": [
       "<Figure size 1200x600 with 1 Axes>"
      ]
     },
     "metadata": {},
     "output_type": "display_data"
    }
   ],
   "source": [
    "sns.set(style=\"whitegrid\")\n",
    "plt.figure(figsize=(12, 6))\n",
    "sns.countplot(x='internetservice', hue='churn', data=df, palette='Set2')\n",
    "plt.title('Churn by Internet Service')\n",
    "plt.show()\n"
   ]
  },
  {
   "cell_type": "markdown",
   "id": "abbbed61",
   "metadata": {},
   "source": [
    "> **Insight:**\n",
    "\n",
    "The bar chart titled \"Churn by Internet Service\" illustrates how customer churn varies by the type of internet service subscribed to. Customers using Fiber optic services have the highest churn rate, with a large portion of them leaving the company. In contrast, DSL users exhibit much lower churn levels, and customers without any internet service have the lowest churn rate overall. This suggests that fiber optic users may experience issues, such as higher costs or unmet expectations, that lead to dissatisfaction and eventual churn, making this segment a critical focus for churn reduction strategies.\n",
    "\n",
    "---"
   ]
  },
  {
   "cell_type": "markdown",
   "id": "902ddfec",
   "metadata": {},
   "source": [
    "**5. What is the average tenure of churned customers compared to those who remain?**"
   ]
  },
  {
   "cell_type": "code",
   "execution_count": 66,
   "id": "203199ad",
   "metadata": {},
   "outputs": [
    {
     "data": {
      "image/png": "[encoded data removed]",
      "text/plain": [
       "<Figure size 1200x600 with 1 Axes>"
      ]
     },
     "metadata": {},
     "output_type": "display_data"
    }
   ],
   "source": [
    "sns.set(style=\"whitegrid\")\n",
    "plt.figure(figsize=(12, 6))\n",
    "sns.histplot(data=df[df['churn'] == 'Yes'], x='tenure', bins=30, color='red', label='Churned', kde=True)\n",
    "sns.histplot(data=df[df['churn'] == 'No'], x='tenure', bins=30, color='green', label='Retained', kde=True)\n",
    "plt.title('Distribution of Tenure for Churned vs Retained Customers')\n",
    "plt.xlabel('Tenure (Months)')\n",
    "plt.ylabel('Frequency')\n",
    "plt.legend()\n",
    "plt.show()"
   ]
  },
  {
   "cell_type": "markdown",
   "id": "9b1f89ab",
   "metadata": {},
   "source": [
    "> **Insight:**\n",
    "\n",
    "The distribution of tenure for churned customers is skewed towards lower values, indicating that customers who leave tend to have a shorter tenure with the service. In contrast, retained customers show a more uniform distribution across different tenure lengths, suggesting that those who stay are more likely to have longer relationships with the company.\n",
    "\n",
    "---"
   ]
  },
  {
   "cell_type": "markdown",
   "id": "c197629c",
   "metadata": {},
   "source": [
    "**6. How do customer satisfaction scores compare between churned and non-churned customers?**\n"
   ]
  },
  {
   "cell_type": "code",
   "execution_count": 67,
   "id": "9ff067d8",
   "metadata": {},
   "outputs": [
    {
     "name": "stderr",
     "output_type": "stream",
     "text": [
      "C:\\Users\\User\\AppData\\Local\\Temp\\ipykernel_18508\\660207848.py:11: FutureWarning: \n",
      "\n",
      "Passing `palette` without assigning `hue` is deprecated and will be removed in v0.14.0. Assign the `x` variable to `hue` and set `legend=False` for the same effect.\n",
      "\n",
      "  sns.boxplot(x='churn', y='customer_satisfaction_score', data=df, palette='Set2')\n"
     ]
    },
    {
     "data": {
      "image/png": "[encoded data removed]",
      "text/plain": [
       "<Figure size 1200x600 with 1 Axes>"
      ]
     },
     "metadata": {},
     "output_type": "display_data"
    }
   ],
   "source": [
    "# Define customer satisfaction score (synthetic for demonstration)\n",
    "# For example, higher tenure and lower monthly charges = higher satisfaction\n",
    "\n",
    "df['customer_satisfaction_score'] = (\n",
    "\t(df['tenure'] / df['tenure'].max()) * 0.6 +\n",
    "\t(1 - (df['monthlycharges'] / df['monthlycharges'].max())) * 0.4\n",
    ") * 10  # Scale to 0-10\n",
    "\n",
    "sns.set(style=\"whitegrid\")\n",
    "plt.figure(figsize=(12, 6))\n",
    "sns.boxplot(x='churn', y='customer_satisfaction_score', data=df, palette='Set2')\n",
    "plt.title('Customer Satisfaction Scores by Churn Status')\n",
    "plt.xlabel('Churn')\n",
    "plt.ylabel('Customer Satisfaction Score')\n",
    "plt.show()"
   ]
  },
  {
   "cell_type": "markdown",
   "id": "88c9eeb9",
   "metadata": {},
   "source": [
    "> **Insight:**\n",
    "\n",
    "The box plot titled \"Customer Satisfaction Scores by Churn Status\" highlights a clear difference in satisfaction levels between customers who churned and those who did not. Customers who stayed (“No” churn) tend to have higher satisfaction scores, with a median around 5.5 and scores broadly distributed across the higher range. In contrast, churned customers (“Yes” churn) show significantly lower satisfaction scores, with a median below 3 and a narrower distribution toward the lower end. This indicates a strong negative correlation between satisfaction and churn, suggesting that improving customer satisfaction could be a key factor in reducing churn rates.\n",
    "\n",
    "---"
   ]
  },
  {
   "cell_type": "markdown",
   "id": "04b5e6c1",
   "metadata": {},
   "source": [
    "#### **V.II. Descriptive Statistics**\n",
    "\n",
    "**1. What are the characteristics of churned customers' charges compared to active customers?**\n"
   ]
  },
  {
   "cell_type": "code",
   "execution_count": 68,
   "id": "a48eb271",
   "metadata": {},
   "outputs": [
    {
     "name": "stdout",
     "output_type": "stream",
     "text": [
      "Mean =  64.79820819112628\n",
      "Median =  70.35\n",
      "Standard Deviation =  30.085973884049842\n",
      "Variance =  905.1658245517292\n",
      "Range =  100.5\n",
      "Skewness: -0.22210292770166232\n",
      "Kurtosis: -1.256156424371879\n",
      "Upper Boundary: 252.6875\n",
      "Lower Boundary: -127.23749999999998\n"
     ]
    }
   ],
   "source": [
    "# Monthly Charges\n",
    "mean = df['monthlycharges'].mean()\n",
    "median = df['monthlycharges'].median()\n",
    "std = df['monthlycharges'].std()\n",
    "variance = df['monthlycharges'].var()\n",
    "range = df['monthlycharges'].max() - df['monthlycharges'].min()\n",
    "\n",
    "q1 = df['monthlycharges'].quantile(0.25)\n",
    "q3 = df['monthlycharges'].quantile(0.75)\n",
    "iqr = q3 - q1\n",
    "\n",
    "up_bound = q3 + 3 * iqr\n",
    "low_bound = q1 - 3 * iqr\n",
    "\n",
    "print('Mean = ', mean)\n",
    "print('Median = ', median)\n",
    "print('Standard Deviation = ', std)\n",
    "print('Variance = ', variance)\n",
    "print('Range = ', range)\n",
    "print(f\"Skewness: {df['monthlycharges'].skew()}\") # --> data distribution\n",
    "print(f\"Kurtosis: {df['monthlycharges'].kurtosis()}\") # -->outliers\n",
    "print(f'Upper Boundary: {up_bound}')\n",
    "print(f'Lower Boundary: {low_bound}')"
   ]
  },
  {
   "cell_type": "markdown",
   "id": "2bb50688",
   "metadata": {},
   "source": [
    ">**Insight:**\n",
    "\n",
    "From a statistical perspective, the charges of churned customers show a slightly left-skewed distribution (skewness = -0.22), indicating that most churned customers paid more than the average, with a few paying significantly less, which pulled the mean (64.80) below the median (70.35). The high standard deviation (~30.09) and large range (100.5) reflect considerable variability in what churned customers were charged. The negative kurtosis (-1.26) suggests a flatter distribution with lighter tails, meaning fewer extreme values compared to a normal distribution. The presence of outliers is implied by the negative lower boundary (-127.24), which is not possible in real charges, likely due to data issues or the use of a boxplot formula. \n",
    "\n",
    "From a business perspective, these findings imply that many churned customers were paying relatively high monthly charges, which could have contributed to dissatisfaction and eventual churn. This highlights a need to review pricing strategies, offer more flexible or tiered plans, and improve perceived value for high-paying customers to reduce churn."
   ]
  },
  {
   "cell_type": "code",
   "execution_count": 69,
   "id": "5f66f9fd",
   "metadata": {},
   "outputs": [
    {
     "name": "stdout",
     "output_type": "stream",
     "text": [
      "Mean =  2283.300440841866\n",
      "Median =  1397.475\n",
      "Standard Deviation =  2266.771361883145\n",
      "Variance =  5138252.407053568\n",
      "Range =  8666.0\n",
      "Skewness: 0.9616424997242504\n",
      "Kurtosis: -0.23179876086937945\n",
      "Upper Boundary: 13974.600000000002\n",
      "Lower Boundary: -9778.4125\n"
     ]
    }
   ],
   "source": [
    "# Total Charges\n",
    "mean = df['totalcharges'].mean()\n",
    "median = df['totalcharges'].median()\n",
    "std = df['totalcharges'].std()\n",
    "variance = df['totalcharges'].var()\n",
    "range = df['totalcharges'].max() - df['totalcharges'].min()\n",
    "\n",
    "q1 = df['totalcharges'].quantile(0.25)\n",
    "q3 = df['totalcharges'].quantile(0.75)\n",
    "iqr = q3 - q1\n",
    "\n",
    "up_bound = q3 + 3 * iqr\n",
    "low_bound = q1 - 3 * iqr\n",
    "\n",
    "print('Mean = ', mean)\n",
    "print('Median = ', median)\n",
    "print('Standard Deviation = ', std)\n",
    "print('Variance = ', variance)\n",
    "print('Range = ', range)\n",
    "print(f\"Skewness: {df['totalcharges'].skew()}\") # --> data distribution\n",
    "print(f\"Kurtosis: {df['totalcharges'].kurtosis()}\") # -->outliers\n",
    "print(f'Upper Boundary: {up_bound}')\n",
    "print(f'Lower Boundary: {low_bound}')"
   ]
  },
  {
   "cell_type": "markdown",
   "id": "0bb793d4",
   "metadata": {},
   "source": [
    ">**Insight:**\n",
    "\n",
    "From a statistical perspective, the totalcharges for churned customers exhibit a right-skewed distribution (skewness = 0.96), meaning a larger proportion of customers had lower total charges, while a few had very high charges that pulled the mean (2283.30) far above the median (1397.48). The high standard deviation (2266.77) and wide range (8666.0) indicate substantial variability in total spending, and the negative kurtosis (-0.23) suggests a relatively flat distribution with fewer extreme outliers than a normal distribution. The lower boundary being negative (–9778.41) is not valid for total charges and likely results from statistical calculations not accounting for data distribution constraints. \n",
    "\n",
    "From a business standpoint, this indicates that churned customers often left early in their lifecycle, as many accumulated relatively low total charges, though some long-term customers with high total spending also churned. This suggests that churn is not solely tied to low engagement, there may be service quality or satisfaction issues affecting even loyal, high-paying customers, which warrants deeper segmentation and personalized retention strategies.\n",
    "\n",
    "---"
   ]
  },
  {
   "cell_type": "markdown",
   "id": "42758f80",
   "metadata": {},
   "source": [
    "#### **V.III. Inferencial Statistics**\n",
    "\n",
    "**1. Is the relationship between contract type and churn significant?**"
   ]
  },
  {
   "cell_type": "code",
   "execution_count": 70,
   "id": "695104ea",
   "metadata": {},
   "outputs": [
    {
     "name": "stdout",
     "output_type": "stream",
     "text": [
      "Chi2: 1179.5458287339445, p-value: 7.326182186265472e-257\n"
     ]
    }
   ],
   "source": [
    "ct = pd.crosstab(df['contract'], df['churn'])\n",
    "chi2, p, dof, ex = chi2_contingency(ct)\n",
    "print(f'Chi2: {chi2}, p-value: {p}')"
   ]
  },
  {
   "cell_type": "markdown",
   "id": "bd4690a1",
   "metadata": {},
   "source": [
    ">**Insight:**\n",
    "\n",
    "From a statistical perspective, the chi-square test result shows a Chi2 value of 1179.55 and a p-value of 7.33e-257, which is extremely small (essentially zero). This indicates a highly significant relationship between contract type and churn, meaning the type of contract a customer holds (e.g., month-to-month, one-year, or two-year) is not independent of whether they churn or not. In other words, contract type has a strong influence on churn behavior. \n",
    "\n",
    "From a business perspective, this suggests that customers with shorter contracts, such as month-to-month plans, are far more likely to churn compared to those with longer-term commitments. This insight can inform retention strategies, such as encouraging customers to switch to annual contracts through loyalty incentives or bundled offers, thereby reducing churn risk and increasing customer lifetime value."
   ]
  },
  {
   "cell_type": "markdown",
   "id": "5e23c51e",
   "metadata": {},
   "source": [
    "---\n",
    "\n",
    "# **VI. CONCLUSIONS AND RECOMMENDATIONS**\n",
    "\n",
    "#### **Conclusion**\n",
    "\n",
    "The analysis reveals that customers with month-to-month contracts exhibit significantly higher churn rates compared to those on one- or two-year contracts. Churned customers also tend to incur higher monthly charges, suggesting a potential link between cost sensitivity and churn behavior. Furthermore, customers using fiber optic internet services demonstrate a higher likelihood of churning than those with DSL, indicating potential service dissatisfaction or price-performance misalignment. Distributional analysis shows that churn predominantly occurs among customers with low tenure, reinforcing the idea that many customers leave within the early stages of their subscription. Statistically, the Chi-Square test confirms a significant relationship between contract type and churn status (p-value < 0.05), affirming that contract type is a key variable influencing churn.\n",
    "\n",
    "From a business standpoint, the findings highlight critical customer segments at risk of churn, particularly new customers on flexible, month-to-month plans and those facing higher monthly charges. The elevated churn rate among fiber optic users suggests a need to evaluate the quality and pricing of this service tier. The strong correlation between short tenure and churn also indicates missed opportunities in early customer engagement and onboarding. These insights underscore the importance of promoting longer-term contracts through personalized incentives, improving the perceived value of premium services, and strengthening retention efforts during the first few months of a customer's lifecycle.\n",
    "\n",
    "#### **Recommendation**\n",
    "\n",
    "Based on the findings, it is recommended to build a predictive churn model using key features such as contract type, tenure, monthly charges, and internet service. These variables showed strong correlations with churn behavior. Segmenting customers by risk profiles and closely monitoring early lifecycle behavior will enable the company to identify high-risk individuals and act proactively. Furthermore, A/B testing of various retention strategies can help validate the most effective interventions, while interactive dashboards and visualizations can support real-time churn monitoring and data-driven decision-making.\n",
    "\n",
    "From a business perspective, to reduce churn, the company should prioritize strategies that promote longer-term contracts, especially by offering compelling incentives or bundling packages. Given that customers with high monthly charges and fiber optic service show elevated churn rates, pricing strategies and perceived service value should be reevaluated. Strengthening onboarding programs and support for new customers can also improve early engagement and retention. Lastly, feedback mechanisms should be implemented to understand dissatisfaction among fiber users, ensuring the business can adapt offerings to meet customer expectations and retain valuable clients."
   ]
  }
 ],
 "metadata": {
  "kernelspec": {
   "display_name": "phase_0",
   "language": "python",
   "name": "python3"
  },
  "language_info": {
   "codemirror_mode": {
    "name": "ipython",
    "version": 3
   },
   "file_extension": ".py",
   "mimetype": "text/x-python",
   "name": "python",
   "nbconvert_exporter": "python",
   "pygments_lexer": "ipython3",
   "version": "3.10.16"
  }
 },
 "nbformat": 4,
 "nbformat_minor": 5
}
